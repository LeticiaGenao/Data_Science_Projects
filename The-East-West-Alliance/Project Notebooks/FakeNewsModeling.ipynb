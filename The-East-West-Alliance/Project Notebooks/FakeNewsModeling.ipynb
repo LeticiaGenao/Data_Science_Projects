{
 "cells": [
  {
   "cell_type": "markdown",
   "metadata": {},
   "source": [
    "# Fake News Modeling"
   ]
  },
  {
   "cell_type": "markdown",
   "metadata": {},
   "source": [
    "# Table of Contents\n",
    "- [Imports](#Import:)\n",
    "- [Load Full Data](#Load-Full-Data:)\n",
    "- [Modeling/Evaluation](#Model-/-Evaluation:)\n",
    "    - [Data Prep](#Data-Prep:)\n",
    "    - [Evaluation Functions](#Evaluation-Functions:)\n",
    "    - [Naive Bayes](#Naive-Bayes:)\n",
    "    - [Log Reg](#Log-Reg:)\n",
    "    - [Random Forest](#Random-Forest:)\n",
    "    - [Decision Tree](#Decision-Tree:)\n",
    "    - [KNN](#KNN:)\n",
    "    - [SVC](#SVC:)"
   ]
  },
  {
   "cell_type": "markdown",
   "metadata": {},
   "source": [
    "# Imports:"
   ]
  },
  {
   "cell_type": "code",
   "execution_count": 2,
   "metadata": {},
   "outputs": [],
   "source": [
    "import numpy as np\n",
    "import pandas as pd\n",
    "import matplotlib.pyplot as plt\n",
    "import scipy.stats as stats\n",
    "import statsmodels.api as sm\n",
    "import seaborn as sns\n",
    "import requests \n",
    "import time\n",
    "import datetime as dt\n",
    "import nltk, string, re\n",
    "import gensim\n",
    "import warnings\n",
    "import pickle\n",
    "import joblib\n",
    "\n",
    "## Model considerations and downloads\n",
    "from statsmodels.api import OLS\n",
    "from sklearn import metrics\n",
    "from sklearn.linear_model import LogisticRegression\n",
    "from sklearn.neighbors import KNeighborsClassifier\n",
    "from sklearn.pipeline import Pipeline\n",
    "from sklearn.naive_bayes import MultinomialNB\n",
    "from sklearn.tree import DecisionTreeClassifier\n",
    "from sklearn.ensemble import RandomForestClassifier\n",
    "from sklearn.ensemble import BaggingClassifier\n",
    "from sklearn.compose import ColumnTransformer\n",
    "from sklearn.ensemble import (GradientBoostingClassifier,\n",
    "                              AdaBoostClassifier,\n",
    "                              VotingClassifier)\n",
    "from sklearn.svm import SVC\n",
    "\n",
    "## Train Test Splits and scoring\n",
    "from sklearn.model_selection import train_test_split, cross_val_score, GridSearchCV\n",
    "from sklearn.preprocessing import StandardScaler, PolynomialFeatures\n",
    "from sklearn.metrics import (confusion_matrix, plot_confusion_matrix, accuracy_score, \n",
    "                                plot_roc_curve, roc_auc_score, precision_score, \n",
    "                                f1_score, recall_score, ConfusionMatrixDisplay)\n",
    "\n",
    "## NLP Considerations\n",
    "from sklearn.compose import ColumnTransformer\n",
    "from sklearn.feature_extraction.text import CountVectorizer, TfidfVectorizer, TfidfTransformer\n",
    "from sklearn.feature_extraction.text import ENGLISH_STOP_WORDS\n",
    "from nltk.corpus import stopwords"
   ]
  },
  {
   "cell_type": "markdown",
   "metadata": {},
   "source": [
    "# Load Full Data:"
   ]
  },
  {
   "cell_type": "code",
   "execution_count": 3,
   "metadata": {},
   "outputs": [],
   "source": [
    "Full_df = pd.read_csv('../Data/retrain.csv')\n"
   ]
  },
  {
   "cell_type": "code",
   "execution_count": 4,
   "metadata": {},
   "outputs": [
    {
     "data": {
      "text/html": [
       "<div>\n",
       "<style scoped>\n",
       "    .dataframe tbody tr th:only-of-type {\n",
       "        vertical-align: middle;\n",
       "    }\n",
       "\n",
       "    .dataframe tbody tr th {\n",
       "        vertical-align: top;\n",
       "    }\n",
       "\n",
       "    .dataframe thead th {\n",
       "        text-align: right;\n",
       "    }\n",
       "</style>\n",
       "<table border=\"1\" class=\"dataframe\">\n",
       "  <thead>\n",
       "    <tr style=\"text-align: right;\">\n",
       "      <th></th>\n",
       "      <th>text</th>\n",
       "      <th>cleanText</th>\n",
       "      <th>target</th>\n",
       "      <th>date</th>\n",
       "    </tr>\n",
       "  </thead>\n",
       "  <tbody>\n",
       "    <tr>\n",
       "      <th>0</th>\n",
       "      <td>Donald Trump just couldn t wish all Americans ...</td>\n",
       "      <td>donald trump wish american happy new year leav...</td>\n",
       "      <td>1</td>\n",
       "      <td>2017-12-31</td>\n",
       "    </tr>\n",
       "    <tr>\n",
       "      <th>1</th>\n",
       "      <td>House Intelligence Committee Chairman Devin Nu...</td>\n",
       "      <td>house intelligence committee chairman devin nu...</td>\n",
       "      <td>1</td>\n",
       "      <td>2017-12-31</td>\n",
       "    </tr>\n",
       "    <tr>\n",
       "      <th>2</th>\n",
       "      <td>On Friday, it was revealed that former Milwauk...</td>\n",
       "      <td>friday revealed former milwaukee sheriff david...</td>\n",
       "      <td>1</td>\n",
       "      <td>2017-12-30</td>\n",
       "    </tr>\n",
       "    <tr>\n",
       "      <th>3</th>\n",
       "      <td>On Christmas day, Donald Trump announced that ...</td>\n",
       "      <td>christmas day donald trump announced would bac...</td>\n",
       "      <td>1</td>\n",
       "      <td>2017-12-29</td>\n",
       "    </tr>\n",
       "    <tr>\n",
       "      <th>4</th>\n",
       "      <td>Pope Francis used his annual Christmas Day mes...</td>\n",
       "      <td>pope francis used annual christmas day message...</td>\n",
       "      <td>1</td>\n",
       "      <td>2017-12-25</td>\n",
       "    </tr>\n",
       "  </tbody>\n",
       "</table>\n",
       "</div>"
      ],
      "text/plain": [
       "                                                text  \\\n",
       "0  Donald Trump just couldn t wish all Americans ...   \n",
       "1  House Intelligence Committee Chairman Devin Nu...   \n",
       "2  On Friday, it was revealed that former Milwauk...   \n",
       "3  On Christmas day, Donald Trump announced that ...   \n",
       "4  Pope Francis used his annual Christmas Day mes...   \n",
       "\n",
       "                                           cleanText  target        date  \n",
       "0  donald trump wish american happy new year leav...       1  2017-12-31  \n",
       "1  house intelligence committee chairman devin nu...       1  2017-12-31  \n",
       "2  friday revealed former milwaukee sheriff david...       1  2017-12-30  \n",
       "3  christmas day donald trump announced would bac...       1  2017-12-29  \n",
       "4  pope francis used annual christmas day message...       1  2017-12-25  "
      ]
     },
     "execution_count": 4,
     "metadata": {},
     "output_type": "execute_result"
    }
   ],
   "source": [
    "Full_df.head()"
   ]
  },
  {
   "cell_type": "code",
   "execution_count": 5,
   "metadata": {},
   "outputs": [
    {
     "data": {
      "text/plain": [
       "text         0\n",
       "cleanText    0\n",
       "target       0\n",
       "date         0\n",
       "dtype: int64"
      ]
     },
     "execution_count": 5,
     "metadata": {},
     "output_type": "execute_result"
    }
   ],
   "source": [
    "Full_df.isna().sum()"
   ]
  },
  {
   "cell_type": "markdown",
   "metadata": {},
   "source": [
    "# Modeling/Evaluation:"
   ]
  },
  {
   "cell_type": "markdown",
   "metadata": {},
   "source": [
    "#### Data Prep:"
   ]
  },
  {
   "cell_type": "code",
   "execution_count": 6,
   "metadata": {},
   "outputs": [],
   "source": [
    "# Set up the X and y\n",
    "X = Full_df[\"cleanText\"]\n",
    "y = Full_df[\"target\"]"
   ]
  },
  {
   "cell_type": "code",
   "execution_count": 7,
   "metadata": {},
   "outputs": [
    {
     "data": {
      "text/plain": [
       "0        donald trump wish american happy new year leav...\n",
       "1        house intelligence committee chairman devin nu...\n",
       "2        friday revealed former milwaukee sheriff david...\n",
       "3        christmas day donald trump announced would bac...\n",
       "4        pope francis used annual christmas day message...\n",
       "                               ...                        \n",
       "77833               democracy work post citizen united era\n",
       "77834    republican congressman greg gianforte half hea...\n",
       "77835              additional flexibility good client well\n",
       "77836    despite promise would sacrifice need ordinary ...\n",
       "77837    increasingly convinced real reason ringling br...\n",
       "Name: cleanText, Length: 77838, dtype: object"
      ]
     },
     "execution_count": 7,
     "metadata": {},
     "output_type": "execute_result"
    }
   ],
   "source": [
    "X"
   ]
  },
  {
   "cell_type": "code",
   "execution_count": 8,
   "metadata": {},
   "outputs": [
    {
     "data": {
      "text/plain": [
       "0    0.524256\n",
       "1    0.475744\n",
       "Name: target, dtype: float64"
      ]
     },
     "execution_count": 8,
     "metadata": {},
     "output_type": "execute_result"
    }
   ],
   "source": [
    "# Establish a baseline\n",
    "y.value_counts(normalize=True)"
   ]
  },
  {
   "cell_type": "markdown",
   "metadata": {},
   "source": [
    "#### Evaluation Functions:"
   ]
  },
  {
   "cell_type": "code",
   "execution_count": 9,
   "metadata": {},
   "outputs": [],
   "source": [
    "def classify_score(model = None, X_train = None, X_test = None, y_train = None, y_test = None):\n",
    "    # Score model on training set.\n",
    "    print(f'Training Score: {model.score(X_train, y_train)}')\n",
    "\n",
    "    # Score model on testing set.\n",
    "    print(f'Testing Score: {model.score(X_test, y_test)}')"
   ]
  },
  {
   "cell_type": "code",
   "execution_count": 10,
   "metadata": {},
   "outputs": [],
   "source": [
    "def classifiy_metrics(y_test = None, y_preds= None, title = None):\n",
    "    \n",
    "    # Calculates the metrics\n",
    "    tn, fp, fn, tp = confusion_matrix(y_test, y_preds).ravel()\n",
    "    accuracy = accuracy_score(y_test,y_preds)\n",
    "    recall = recall_score(y_test,y_preds)\n",
    "    precision = precision_score(y_test,y_preds)\n",
    "    specificity = tn/(tn + fp)\n",
    "    F1score = f1_score(y_test,y_preds)\n",
    "    roc_auc = roc_auc_score(y_test,y_preds)\n",
    "    \n",
    "    # Print Metrics\n",
    "    print(f\"Accuracy Score: {accuracy}\")\n",
    "    print(f\"Recall Score: {recall}\")\n",
    "    print(f\"Specificity Score: {specificity}\")\n",
    "    print(f\"Precision Score: {precision}\")\n",
    "    print(f\"F1 Score: {F1score}\")\n",
    "    print(f\"ROC AUC Score: {roc_auc}\")\n",
    "\n",
    "    # Lastly create the confusion matrix plots\n",
    "    fig, ax = plt.subplots(figsize=(10,10))\n",
    "    plt.rcParams.update({'font.size': 22})\n",
    "    plt.grid(False)\n",
    "    ConfusionMatrixDisplay.from_predictions(y_test, y_preds, cmap='Blues', values_format='d', ax=ax).ax_.set_title(title)\n",
    "    #Confusion Matrix set title https://github.com/scikit-learn/scikit-learn/discussions/20690\n",
    "    #figure size https://stackoverflow.com/questions/61325314/how-to-change-plot-confusion-matrix-default-figure-size-in-sklearn-metrics-packa\n",
    "    #Grid line removal https://stackoverflow.com/questions/53574918/how-to-get-rid-of-white-lines-in-confusion-matrix\n",
    "    # Confusion Matrix Font Size https://stackoverflow.com/questions/67294768/how-can-i-change-the-font-size-in-this-confusion-matrix"
   ]
  },
  {
   "cell_type": "code",
   "execution_count": 11,
   "metadata": {},
   "outputs": [],
   "source": [
    "X_train, X_test, y_train, y_test = train_test_split(X, y, test_size = 0.33,\n",
    "                                                    stratify=y, random_state=42)"
   ]
  },
  {
   "cell_type": "code",
   "execution_count": 11,
   "metadata": {},
   "outputs": [
    {
     "data": {
      "text/plain": [
       "16472    daily dose insanity san francisco middle schoo...\n",
       "71840    standing thousand iowa voter former vice presi...\n",
       "55255    jeff stein vox hillary clinton found win dilem...\n",
       "49160    freedom rider dump democrat good margaret kimb...\n",
       "23568    washington reuters u department defense lockhe...\n",
       "                               ...                        \n",
       "18828    washington reuters trump administration order ...\n",
       "36220    sydney reuters second group refugee held austr...\n",
       "51255    november next step clean democratic party oppo...\n",
       "25111    washington reuters u president barack obama we...\n",
       "41522    man spoke softly carried big stick bill federe...\n",
       "Name: cleanText, Length: 52151, dtype: object"
      ]
     },
     "execution_count": 11,
     "metadata": {},
     "output_type": "execute_result"
    }
   ],
   "source": [
    "X_train"
   ]
  },
  {
   "cell_type": "code",
   "execution_count": 12,
   "metadata": {},
   "outputs": [
    {
     "data": {
      "text/plain": [
       "16472    1\n",
       "71840    0\n",
       "55255    1\n",
       "49160    1\n",
       "23568    0\n",
       "        ..\n",
       "18828    0\n",
       "36220    0\n",
       "51255    1\n",
       "25111    0\n",
       "41522    1\n",
       "Name: target, Length: 52151, dtype: int64"
      ]
     },
     "execution_count": 12,
     "metadata": {},
     "output_type": "execute_result"
    }
   ],
   "source": [
    "y_train"
   ]
  },
  {
   "cell_type": "markdown",
   "metadata": {},
   "source": [
    "#### Naive Bayes:"
   ]
  },
  {
   "cell_type": "code",
   "execution_count": 13,
   "metadata": {},
   "outputs": [],
   "source": [
    "ct_pipe_mnb_np = Pipeline([\n",
    "    ('tvec', TfidfVectorizer()),                                   \n",
    "    ('mnb', MultinomialNB())\n",
    "])\n",
    "\n",
    "pipe_params_ct_mnb_np = {\n",
    "        'tvec__max_df' : [0.95, 0.98],\n",
    "        'tvec__ngram_range' : [(1, 1), (2,2)],\n",
    "        'tvec__min_df' : [0.01, 0.02]\n",
    "}\n",
    "\n",
    "# Instantiate GridSearchCV.\n",
    "gs_ct_mnb_np = GridSearchCV(ct_pipe_mnb_np,\n",
    "                      param_grid=pipe_params_ct_mnb_np,\n",
    "                      cv=5,\n",
    "                      verbose=2,\n",
    "                      n_jobs=-2)\n"
   ]
  },
  {
   "cell_type": "code",
   "execution_count": 14,
   "metadata": {},
   "outputs": [
    {
     "name": "stdout",
     "output_type": "stream",
     "text": [
      "Fitting 5 folds for each of 8 candidates, totalling 40 fits\n"
     ]
    },
    {
     "data": {
      "text/plain": [
       "GridSearchCV(cv=5,\n",
       "             estimator=Pipeline(steps=[('tvec', TfidfVectorizer()),\n",
       "                                       ('mnb', MultinomialNB())]),\n",
       "             n_jobs=-2,\n",
       "             param_grid={'tvec__max_df': [0.95, 0.98],\n",
       "                         'tvec__min_df': [0.01, 0.02],\n",
       "                         'tvec__ngram_range': [(1, 1), (2, 2)]},\n",
       "             verbose=2)"
      ]
     },
     "execution_count": 14,
     "metadata": {},
     "output_type": "execute_result"
    }
   ],
   "source": [
    "gs_ct_mnb_np.fit(X_train,y_train)"
   ]
  },
  {
   "cell_type": "code",
   "execution_count": 15,
   "metadata": {},
   "outputs": [
    {
     "data": {
      "text/plain": [
       "{'tvec__max_df': 0.95, 'tvec__min_df': 0.01, 'tvec__ngram_range': (2, 2)}"
      ]
     },
     "execution_count": 15,
     "metadata": {},
     "output_type": "execute_result"
    }
   ],
   "source": [
    "gs_ct_mnb_np.best_params_"
   ]
  },
  {
   "cell_type": "code",
   "execution_count": 16,
   "metadata": {},
   "outputs": [
    {
     "name": "stdout",
     "output_type": "stream",
     "text": [
      "Training Score: 0.7922762746639566\n",
      "Testing Score: 0.7883365126328493\n"
     ]
    }
   ],
   "source": [
    "classify_score(model = gs_ct_mnb_np, \n",
    "                X_train = X_train, \n",
    "                X_test = X_test, \n",
    "                y_test = y_test, \n",
    "                y_train = y_train)"
   ]
  },
  {
   "cell_type": "code",
   "execution_count": 17,
   "metadata": {},
   "outputs": [],
   "source": [
    "preds_gs_mnb_np = gs_ct_mnb_np.predict(X_test)"
   ]
  },
  {
   "cell_type": "code",
   "execution_count": 55,
   "metadata": {},
   "outputs": [
    {
     "name": "stdout",
     "output_type": "stream",
     "text": [
      "Accuracy Score: 0.7883365126328493\n",
      "Recall Score: 0.6869067103109656\n",
      "Specificity Score: 0.8803742481621742\n",
      "Precision Score: 0.8389805097451274\n",
      "F1 Score: 0.7553655793025872\n",
      "ROC AUC Score: 0.7836404792365699\n"
     ]
    },
    {
     "data": {
      "image/png": "[encoded data removed]",
      "text/plain": [
       "<Figure size 720x720 with 2 Axes>"
      ]
     },
     "metadata": {
      "needs_background": "light"
     },
     "output_type": "display_data"
    }
   ],
   "source": [
    "classifiy_metrics(y_test = y_test, \n",
    "                    y_preds = preds_gs_mnb_np,\n",
    "                    title=\"Multinomial Naive Bayes\")"
   ]
  },
  {
   "cell_type": "code",
   "execution_count": 19,
   "metadata": {},
   "outputs": [
    {
     "data": {
      "text/plain": [
       "['retrain_gs_ct_mnb_np.pkl']"
      ]
     },
     "execution_count": 19,
     "metadata": {},
     "output_type": "execute_result"
    }
   ],
   "source": [
    "joblib.dump(gs_ct_mnb_np,'retrain_gs_ct_mnb_np.pkl')"
   ]
  },
  {
   "cell_type": "markdown",
   "metadata": {},
   "source": [
    "#### Log Reg:"
   ]
  },
  {
   "cell_type": "code",
   "execution_count": 20,
   "metadata": {},
   "outputs": [
    {
     "name": "stdout",
     "output_type": "stream",
     "text": [
      "Fitting 5 folds for each of 320 candidates, totalling 1600 fits\n"
     ]
    },
    {
     "name": "stderr",
     "output_type": "stream",
     "text": [
      "C:\\ProgramData\\Anaconda3\\lib\\site-packages\\sklearn\\model_selection\\_validation.py:372: FitFailedWarning: \n",
      "480 fits failed out of a total of 1600.\n",
      "The score on these train-test partitions for these parameters will be set to nan.\n",
      "If these failures are not expected, you can try to debug them by setting error_score='raise'.\n",
      "\n",
      "Below are more details about the failures:\n",
      "--------------------------------------------------------------------------------\n",
      "160 fits failed with the following error:\n",
      "Traceback (most recent call last):\n",
      "  File \"C:\\ProgramData\\Anaconda3\\lib\\site-packages\\sklearn\\model_selection\\_validation.py\", line 680, in _fit_and_score\n",
      "    estimator.fit(X_train, y_train, **fit_params)\n",
      "  File \"C:\\ProgramData\\Anaconda3\\lib\\site-packages\\sklearn\\pipeline.py\", line 394, in fit\n",
      "    self._final_estimator.fit(Xt, y, **fit_params_last_step)\n",
      "  File \"C:\\ProgramData\\Anaconda3\\lib\\site-packages\\sklearn\\linear_model\\_logistic.py\", line 1461, in fit\n",
      "    solver = _check_solver(self.solver, self.penalty, self.dual)\n",
      "  File \"C:\\ProgramData\\Anaconda3\\lib\\site-packages\\sklearn\\linear_model\\_logistic.py\", line 447, in _check_solver\n",
      "    raise ValueError(\n",
      "ValueError: Solver newton-cg supports only 'l2' or 'none' penalties, got l1 penalty.\n",
      "\n",
      "--------------------------------------------------------------------------------\n",
      "160 fits failed with the following error:\n",
      "Traceback (most recent call last):\n",
      "  File \"C:\\ProgramData\\Anaconda3\\lib\\site-packages\\sklearn\\model_selection\\_validation.py\", line 680, in _fit_and_score\n",
      "    estimator.fit(X_train, y_train, **fit_params)\n",
      "  File \"C:\\ProgramData\\Anaconda3\\lib\\site-packages\\sklearn\\pipeline.py\", line 394, in fit\n",
      "    self._final_estimator.fit(Xt, y, **fit_params_last_step)\n",
      "  File \"C:\\ProgramData\\Anaconda3\\lib\\site-packages\\sklearn\\linear_model\\_logistic.py\", line 1461, in fit\n",
      "    solver = _check_solver(self.solver, self.penalty, self.dual)\n",
      "  File \"C:\\ProgramData\\Anaconda3\\lib\\site-packages\\sklearn\\linear_model\\_logistic.py\", line 447, in _check_solver\n",
      "    raise ValueError(\n",
      "ValueError: Solver lbfgs supports only 'l2' or 'none' penalties, got l1 penalty.\n",
      "\n",
      "--------------------------------------------------------------------------------\n",
      "160 fits failed with the following error:\n",
      "Traceback (most recent call last):\n",
      "  File \"C:\\ProgramData\\Anaconda3\\lib\\site-packages\\sklearn\\model_selection\\_validation.py\", line 680, in _fit_and_score\n",
      "    estimator.fit(X_train, y_train, **fit_params)\n",
      "  File \"C:\\ProgramData\\Anaconda3\\lib\\site-packages\\sklearn\\pipeline.py\", line 394, in fit\n",
      "    self._final_estimator.fit(Xt, y, **fit_params_last_step)\n",
      "  File \"C:\\ProgramData\\Anaconda3\\lib\\site-packages\\sklearn\\linear_model\\_logistic.py\", line 1461, in fit\n",
      "    solver = _check_solver(self.solver, self.penalty, self.dual)\n",
      "  File \"C:\\ProgramData\\Anaconda3\\lib\\site-packages\\sklearn\\linear_model\\_logistic.py\", line 447, in _check_solver\n",
      "    raise ValueError(\n",
      "ValueError: Solver sag supports only 'l2' or 'none' penalties, got l1 penalty.\n",
      "\n",
      "  warnings.warn(some_fits_failed_message, FitFailedWarning)\n",
      "C:\\ProgramData\\Anaconda3\\lib\\site-packages\\sklearn\\model_selection\\_search.py:969: UserWarning: One or more of the test scores are non-finite: [       nan        nan        nan        nan 0.86169014 0.86245713\n",
      "        nan        nan 0.86178602 0.8624763  0.86360762 0.86126826\n",
      " 0.86358844 0.86124908 0.8637035  0.86122991 0.86360762 0.86124908\n",
      " 0.86360762 0.86122991        nan        nan        nan        nan\n",
      " 0.88562065 0.88427838        nan        nan 0.88562065 0.88435508\n",
      " 0.87923532 0.88050086 0.87923532 0.88052003 0.87927367 0.88059674\n",
      " 0.87923532 0.88052003 0.87925449 0.88057756        nan        nan\n",
      "        nan        nan 0.79879585 0.79576619        nan        nan\n",
      " 0.79879584 0.79574702 0.8016913  0.79883422 0.8016913  0.79885339\n",
      " 0.80174882 0.79891092 0.80167212 0.79881504 0.80165295 0.79885339\n",
      "        nan        nan        nan        nan 0.80688772 0.80707948\n",
      "        nan        nan 0.80681102 0.80707948 0.80479765 0.80560302\n",
      " 0.80481683 0.80558385 0.80483601 0.80556467 0.80481683 0.80560302\n",
      " 0.80479765 0.80558385        nan        nan        nan        nan\n",
      " 0.86502655 0.86425956        nan        nan 0.8649115  0.86414451\n",
      " 0.86215031 0.86111485 0.86215031 0.86113403 0.86218867 0.86103814\n",
      " 0.86215031 0.86113403 0.86213114 0.8610765         nan        nan\n",
      "        nan        nan 0.88406744 0.88349222        nan        nan\n",
      " 0.88412497 0.88356892 0.8765316  0.87812314 0.8765316  0.87812314\n",
      " 0.87641655 0.87831489 0.8765316  0.87812314 0.87649325 0.87827654\n",
      "        nan        nan        nan        nan 0.77055098 0.76949634\n",
      "        nan        nan 0.77051262 0.76938129 0.76895945 0.76767473\n",
      " 0.76897863 0.76769391 0.76897863 0.76767474 0.76895945 0.76769391\n",
      " 0.76895945 0.76767473        nan        nan        nan        nan\n",
      " 0.77315877 0.77237262        nan        nan 0.77317795 0.77239179\n",
      " 0.77189323 0.77126047 0.77187405 0.77122212 0.77189323 0.77124129\n",
      " 0.77189323 0.77120294 0.77189323 0.77124129        nan        nan\n",
      "        nan        nan 0.86169014 0.8624763         nan        nan\n",
      " 0.8617285  0.86241877 0.86360762 0.86126826 0.86358844 0.86124908\n",
      " 0.8637035  0.86122991 0.86358844 0.86126826 0.86356927 0.86126826\n",
      "        nan        nan        nan        nan 0.88560147 0.88427838\n",
      "        nan        nan 0.88563982 0.88435508 0.87923532 0.88050086\n",
      " 0.87923532 0.88052003 0.87927367 0.88059674 0.87923532 0.88052003\n",
      " 0.87925449 0.88059674        nan        nan        nan        nan\n",
      " 0.79879585 0.79580454        nan        nan 0.79879584 0.79572784\n",
      " 0.8016913  0.79883422 0.8016913  0.79885339 0.80174882 0.79891092\n",
      " 0.80171047 0.79881504 0.80167212 0.79885339        nan        nan\n",
      "        nan        nan 0.80684937 0.80704113        nan        nan\n",
      " 0.80681102 0.80707948 0.80479765 0.80560302 0.80481683 0.80558385\n",
      " 0.80483601 0.80556467 0.80479765 0.80560302 0.80483601 0.80556467\n",
      "        nan        nan        nan        nan 0.86500738 0.86425956\n",
      "        nan        nan 0.86494985 0.86416369 0.86215031 0.86111485\n",
      " 0.86215031 0.86113403 0.86218867 0.86103814 0.86216949 0.86111485\n",
      " 0.86213114 0.8610765         nan        nan        nan        nan\n",
      " 0.88406744 0.88347304        nan        nan 0.88410579 0.88356892\n",
      " 0.8765316  0.87812314 0.8765316  0.87812314 0.87641655 0.87831489\n",
      " 0.8765316  0.87814231 0.87649325 0.87823819        nan        nan\n",
      "        nan        nan 0.77055098 0.76947716        nan        nan\n",
      " 0.77051262 0.76938129 0.76895945 0.76767473 0.76897863 0.76769391\n",
      " 0.76897863 0.76767474 0.76895945 0.76769391 0.76894028 0.76767473\n",
      "        nan        nan        nan        nan 0.7731396  0.77239179\n",
      "        nan        nan 0.77317795 0.77239179 0.77189323 0.77126047\n",
      " 0.77187405 0.77122212 0.77189323 0.77124129 0.77189323 0.77127964\n",
      " 0.7719124  0.77122212]\n",
      "  warnings.warn(\n"
     ]
    },
    {
     "data": {
      "text/plain": [
       "GridSearchCV(cv=5,\n",
       "             estimator=Pipeline(steps=[('cvec', CountVectorizer()),\n",
       "                                       ('tfidf', TfidfTransformer()),\n",
       "                                       ('logreg', LogisticRegression())]),\n",
       "             n_jobs=-2,\n",
       "             param_grid={'cvec__max_df': [0.95, 0.98],\n",
       "                         'cvec__min_df': [0.01, 0.02],\n",
       "                         'cvec__ngram_range': [(1, 1), (2, 2)],\n",
       "                         'logreg__C': (0.1, 0.5),\n",
       "                         'logreg__penalty': ('l1', 'l2'),\n",
       "                         'logreg__solver': ('newton-cg', 'lbfgs', 'liblinear',\n",
       "                                            'sag', 'saga'),\n",
       "                         'tfidf__use_idf': [True, False]},\n",
       "             verbose=1)"
      ]
     },
     "execution_count": 20,
     "metadata": {},
     "output_type": "execute_result"
    }
   ],
   "source": [
    "# Complex Log Reg With Passthrough for Words Per Title and Per Text\n",
    "\n",
    "cvec_idf_logreg_pipe = Pipeline([\n",
    "    ('cvec', CountVectorizer()),\n",
    "    ('tfidf' , TfidfTransformer()),\n",
    "    ('logreg', LogisticRegression())\n",
    "])\n",
    "\n",
    "pipe_params_cidf_logreg = {\n",
    "        'cvec__ngram_range' : [(1, 1), (2, 2)],\n",
    "        'cvec__min_df' : [0.01, 0.02],\n",
    "        'cvec__max_df': [0.95, 0.98],\n",
    "        'tfidf__use_idf': [True, False],\n",
    "        'logreg__C': (0.1, 0.5),\n",
    "        'logreg__penalty': ('l1', 'l2'),\n",
    "        'logreg__solver': ('newton-cg', 'lbfgs', 'liblinear', 'sag', 'saga')\n",
    "}\n",
    "\n",
    "# Instantiate GridSearchCV.\n",
    "gs_cvec_idf_logreg = GridSearchCV(cvec_idf_logreg_pipe,\n",
    "                      param_grid=pipe_params_cidf_logreg,\n",
    "                      cv=5,\n",
    "                      verbose=1,\n",
    "                      n_jobs=-2)\n",
    "\n",
    "\n",
    "# Fit GridSearch to training data.\n",
    "gs_cvec_idf_logreg.fit(X_train, y_train)"
   ]
  },
  {
   "cell_type": "code",
   "execution_count": 21,
   "metadata": {},
   "outputs": [
    {
     "data": {
      "text/plain": [
       "{'cvec__max_df': 0.98,\n",
       " 'cvec__min_df': 0.01,\n",
       " 'cvec__ngram_range': (1, 1),\n",
       " 'logreg__C': 0.5,\n",
       " 'logreg__penalty': 'l1',\n",
       " 'logreg__solver': 'saga',\n",
       " 'tfidf__use_idf': True}"
      ]
     },
     "execution_count": 21,
     "metadata": {},
     "output_type": "execute_result"
    }
   ],
   "source": [
    "gs_cvec_idf_logreg.best_params_"
   ]
  },
  {
   "cell_type": "code",
   "execution_count": 22,
   "metadata": {},
   "outputs": [
    {
     "name": "stdout",
     "output_type": "stream",
     "text": [
      "Training Score: 0.8974324557534851\n",
      "Testing Score: 0.8883871218904504\n"
     ]
    }
   ],
   "source": [
    "classify_score(model = gs_cvec_idf_logreg, \n",
    "                X_train = X_train, \n",
    "                X_test = X_test, \n",
    "                y_test = y_test, \n",
    "                y_train = y_train)"
   ]
  },
  {
   "cell_type": "code",
   "execution_count": 23,
   "metadata": {},
   "outputs": [],
   "source": [
    "preds_gs_cvec_idf_logreg = gs_cvec_idf_logreg.predict(X_test)"
   ]
  },
  {
   "cell_type": "code",
   "execution_count": 56,
   "metadata": {},
   "outputs": [
    {
     "name": "stdout",
     "output_type": "stream",
     "text": [
      "Accuracy Score: 0.8883871218904504\n",
      "Recall Score: 0.8563829787234043\n",
      "Specificity Score: 0.9174277864409297\n",
      "Precision Score: 0.9039474820765311\n",
      "F1 Score: 0.8795226289028029\n",
      "ROC AUC Score: 0.886905382582167\n"
     ]
    },
    {
     "data": {
      "image/png": "[encoded data removed]",
      "text/plain": [
       "<Figure size 720x720 with 2 Axes>"
      ]
     },
     "metadata": {
      "needs_background": "light"
     },
     "output_type": "display_data"
    }
   ],
   "source": [
    "classifiy_metrics(y_test = y_test, \n",
    "                    y_preds = preds_gs_cvec_idf_logreg,\n",
    "                    title=\"Logistic Regression\")"
   ]
  },
  {
   "cell_type": "code",
   "execution_count": 25,
   "metadata": {},
   "outputs": [
    {
     "data": {
      "text/plain": [
       "['retrain_gs_cvec_idf_logreg.pkl']"
      ]
     },
     "execution_count": 25,
     "metadata": {},
     "output_type": "execute_result"
    }
   ],
   "source": [
    "joblib.dump(gs_cvec_idf_logreg,\"retrain_gs_cvec_idf_logreg.pkl\") # The big Log Reg"
   ]
  },
  {
   "cell_type": "markdown",
   "metadata": {},
   "source": [
    "#### Random Forest:"
   ]
  },
  {
   "cell_type": "code",
   "execution_count": 26,
   "metadata": {},
   "outputs": [],
   "source": [
    "ct_pipe_rf_np = Pipeline([\n",
    "    ('tvec', TfidfVectorizer()),                                   \n",
    "    ('rf', RandomForestClassifier())\n",
    "])\n",
    "\n",
    "pipe_params_ct_rf_np = {\n",
    "        'tvec__max_df' : [0.95, 0.98],\n",
    "        'tvec__ngram_range' : [(1, 1), (2,2)],\n",
    "        'tvec__min_df' : [0.01, 0.02],\n",
    "        'rf__min_samples_leaf' : [2, 7],\n",
    "        'rf__ccp_alpha' : [0.01, 0.03]\n",
    "        \n",
    "}\n",
    "\n",
    "# Instantiate GridSearchCV.\n",
    "gs_ct_rf_np = GridSearchCV(ct_pipe_rf_np,\n",
    "                      param_grid=pipe_params_ct_rf_np,\n",
    "                      cv=5,\n",
    "                      verbose=2,\n",
    "                      n_jobs=-2)"
   ]
  },
  {
   "cell_type": "code",
   "execution_count": 27,
   "metadata": {},
   "outputs": [
    {
     "name": "stdout",
     "output_type": "stream",
     "text": [
      "Fitting 5 folds for each of 32 candidates, totalling 160 fits\n"
     ]
    },
    {
     "data": {
      "text/plain": [
       "GridSearchCV(cv=5,\n",
       "             estimator=Pipeline(steps=[('tvec', TfidfVectorizer()),\n",
       "                                       ('rf', RandomForestClassifier())]),\n",
       "             n_jobs=-2,\n",
       "             param_grid={'rf__ccp_alpha': [0.01, 0.03],\n",
       "                         'rf__min_samples_leaf': [2, 7],\n",
       "                         'tvec__max_df': [0.95, 0.98],\n",
       "                         'tvec__min_df': [0.01, 0.02],\n",
       "                         'tvec__ngram_range': [(1, 1), (2, 2)]},\n",
       "             verbose=2)"
      ]
     },
     "execution_count": 27,
     "metadata": {},
     "output_type": "execute_result"
    }
   ],
   "source": [
    "gs_ct_rf_np.fit(X_train, y_train)"
   ]
  },
  {
   "cell_type": "code",
   "execution_count": 28,
   "metadata": {},
   "outputs": [
    {
     "data": {
      "text/plain": [
       "{'rf__ccp_alpha': 0.01,\n",
       " 'rf__min_samples_leaf': 7,\n",
       " 'tvec__max_df': 0.95,\n",
       " 'tvec__min_df': 0.02,\n",
       " 'tvec__ngram_range': (1, 1)}"
      ]
     },
     "execution_count": 28,
     "metadata": {},
     "output_type": "execute_result"
    }
   ],
   "source": [
    "gs_ct_rf_np.best_params_"
   ]
  },
  {
   "cell_type": "code",
   "execution_count": 29,
   "metadata": {},
   "outputs": [
    {
     "name": "stdout",
     "output_type": "stream",
     "text": [
      "Training Score: 0.82821038906253\n",
      "Testing Score: 0.8243469459259548\n"
     ]
    }
   ],
   "source": [
    "classify_score(model = gs_ct_rf_np, \n",
    "                X_train = X_train, \n",
    "                X_test = X_test, \n",
    "                y_test = y_test, \n",
    "                y_train = y_train)"
   ]
  },
  {
   "cell_type": "code",
   "execution_count": 30,
   "metadata": {},
   "outputs": [],
   "source": [
    "preds_gs_ct_rf_np = gs_ct_rf_np.predict(X_test)"
   ]
  },
  {
   "cell_type": "code",
   "execution_count": 57,
   "metadata": {},
   "outputs": [
    {
     "name": "stdout",
     "output_type": "stream",
     "text": [
      "Accuracy Score: 0.8243469459259548\n",
      "Recall Score: 0.7324877250409165\n",
      "Specificity Score: 0.9077003044479097\n",
      "Precision Score: 0.8780655287423975\n",
      "F1 Score: 0.7986972427946819\n",
      "ROC AUC Score: 0.8200940147444131\n"
     ]
    },
    {
     "data": {
      "image/png": "[encoded data removed]",
      "text/plain": [
       "<Figure size 720x720 with 2 Axes>"
      ]
     },
     "metadata": {
      "needs_background": "light"
     },
     "output_type": "display_data"
    }
   ],
   "source": [
    "classifiy_metrics(y_test, \n",
    "                    preds_gs_ct_rf_np, \n",
    "                    title = \"Random Forest\")"
   ]
  },
  {
   "cell_type": "code",
   "execution_count": 32,
   "metadata": {},
   "outputs": [
    {
     "data": {
      "text/plain": [
       "['retrain_gs_random_forest.pkl']"
      ]
     },
     "execution_count": 32,
     "metadata": {},
     "output_type": "execute_result"
    }
   ],
   "source": [
    "joblib.dump(gs_ct_rf_np,'retrain_gs_random_forest.pkl')\n",
    "#Joblib instead of pickle"
   ]
  },
  {
   "cell_type": "markdown",
   "metadata": {},
   "source": [
    "#### Decision Tree:"
   ]
  },
  {
   "cell_type": "code",
   "execution_count": 33,
   "metadata": {},
   "outputs": [],
   "source": [
    "ct_pipe_dt_np = Pipeline([\n",
    "    ('tvec', TfidfVectorizer()),                                   \n",
    "    ('dt', DecisionTreeClassifier())              ## Pipeline always end w estimator\n",
    "])\n",
    "\n",
    "pipe_params_ct_dt_np = {\n",
    "        'tvec__max_df' : [0.95, 0.98],\n",
    "        'tvec__ngram_range' : [(1, 1), (2,2)],\n",
    "        'tvec__min_df' : [0.01, 0.02],\n",
    "        \"dt__max_depth\":[5,8],\n",
    "        \"dt__ccp_alpha\":[0, 0.001]\n",
    "}\n",
    "\n",
    "# Instantiate GridSearchCV.\n",
    "gs_ct_dt_np = GridSearchCV(ct_pipe_dt_np,\n",
    "                      param_grid=pipe_params_ct_dt_np,\n",
    "                      cv=5,\n",
    "                      verbose=2,\n",
    "                      n_jobs=-2)"
   ]
  },
  {
   "cell_type": "code",
   "execution_count": 34,
   "metadata": {},
   "outputs": [
    {
     "name": "stdout",
     "output_type": "stream",
     "text": [
      "Fitting 5 folds for each of 32 candidates, totalling 160 fits\n"
     ]
    },
    {
     "data": {
      "text/plain": [
       "GridSearchCV(cv=5,\n",
       "             estimator=Pipeline(steps=[('tvec', TfidfVectorizer()),\n",
       "                                       ('dt', DecisionTreeClassifier())]),\n",
       "             n_jobs=-2,\n",
       "             param_grid={'dt__ccp_alpha': [0, 0.001], 'dt__max_depth': [5, 8],\n",
       "                         'tvec__max_df': [0.95, 0.98],\n",
       "                         'tvec__min_df': [0.01, 0.02],\n",
       "                         'tvec__ngram_range': [(1, 1), (2, 2)]},\n",
       "             verbose=2)"
      ]
     },
     "execution_count": 34,
     "metadata": {},
     "output_type": "execute_result"
    }
   ],
   "source": [
    "gs_ct_dt_np.fit(X_train, y_train)"
   ]
  },
  {
   "cell_type": "code",
   "execution_count": 35,
   "metadata": {},
   "outputs": [
    {
     "data": {
      "text/plain": [
       "{'dt__ccp_alpha': 0,\n",
       " 'dt__max_depth': 8,\n",
       " 'tvec__max_df': 0.98,\n",
       " 'tvec__min_df': 0.01,\n",
       " 'tvec__ngram_range': (1, 1)}"
      ]
     },
     "execution_count": 35,
     "metadata": {},
     "output_type": "execute_result"
    }
   ],
   "source": [
    "gs_ct_dt_np.best_params_"
   ]
  },
  {
   "cell_type": "code",
   "execution_count": 36,
   "metadata": {},
   "outputs": [
    {
     "name": "stdout",
     "output_type": "stream",
     "text": [
      "Training Score: 0.8570305459147476\n",
      "Testing Score: 0.8444349281737844\n"
     ]
    }
   ],
   "source": [
    "classify_score(model = gs_ct_dt_np, \n",
    "                X_train = X_train, \n",
    "                X_test = X_test, \n",
    "                y_test = y_test, \n",
    "                y_train = y_train)"
   ]
  },
  {
   "cell_type": "code",
   "execution_count": 37,
   "metadata": {},
   "outputs": [],
   "source": [
    "preds_gs_ct_dt_np = gs_ct_dt_np.predict(X_test)"
   ]
  },
  {
   "cell_type": "code",
   "execution_count": 58,
   "metadata": {},
   "outputs": [
    {
     "name": "stdout",
     "output_type": "stream",
     "text": [
      "Accuracy Score: 0.8444349281737844\n",
      "Recall Score: 0.8120294599018003\n",
      "Specificity Score: 0.8738397564416722\n",
      "Precision Score: 0.853811736362072\n",
      "F1 Score: 0.8323966110225653\n",
      "ROC AUC Score: 0.8429346081717362\n"
     ]
    },
    {
     "data": {
      "image/png": "[encoded data removed]",
      "text/plain": [
       "<Figure size 720x720 with 2 Axes>"
      ]
     },
     "metadata": {
      "needs_background": "light"
     },
     "output_type": "display_data"
    }
   ],
   "source": [
    "classifiy_metrics(y_test = y_test, \n",
    "                    y_preds = preds_gs_ct_dt_np, title= 'Decision Tree')"
   ]
  },
  {
   "cell_type": "code",
   "execution_count": 39,
   "metadata": {},
   "outputs": [
    {
     "data": {
      "text/plain": [
       "['retrain_gs_ct_dt_np.pkl']"
      ]
     },
     "execution_count": 39,
     "metadata": {},
     "output_type": "execute_result"
    }
   ],
   "source": [
    "joblib.dump(gs_ct_dt_np,'retrain_gs_ct_dt_np.pkl')"
   ]
  },
  {
   "cell_type": "markdown",
   "metadata": {},
   "source": [
    "#### KNN:"
   ]
  },
  {
   "cell_type": "code",
   "execution_count": 40,
   "metadata": {},
   "outputs": [],
   "source": [
    "ct_pipe_knn_np = Pipeline([\n",
    "    ('tvec', TfidfVectorizer()),                                   \n",
    "    ('knn', KNeighborsClassifier())              ## Pipeline always end w estimator\n",
    "])\n",
    "\n",
    "pipe_params_ct_knn_np = {\n",
    "        'tvec__max_df' : [0.95, 0.98],\n",
    "        'tvec__ngram_range' : [(1, 1), (2,2)],\n",
    "        'tvec__min_df' : [0.01, 0.02],\n",
    "        'knn__n_neighbors': (5,7),\n",
    "        'knn__leaf_size': (15, 30),\n",
    "        'knn__weights': ('uniform', 'distance')\n",
    "}\n",
    "\n",
    "# Instantiate GridSearchCV.\n",
    "gs_ct_knn_np = GridSearchCV(ct_pipe_knn_np,\n",
    "                      param_grid=pipe_params_ct_knn_np,\n",
    "                      cv=5,\n",
    "                      verbose=2,\n",
    "                      n_jobs=-2)"
   ]
  },
  {
   "cell_type": "code",
   "execution_count": 41,
   "metadata": {},
   "outputs": [
    {
     "name": "stdout",
     "output_type": "stream",
     "text": [
      "Fitting 5 folds for each of 64 candidates, totalling 320 fits\n"
     ]
    },
    {
     "data": {
      "text/plain": [
       "GridSearchCV(cv=5,\n",
       "             estimator=Pipeline(steps=[('tvec', TfidfVectorizer()),\n",
       "                                       ('knn', KNeighborsClassifier())]),\n",
       "             n_jobs=-2,\n",
       "             param_grid={'knn__leaf_size': (15, 30), 'knn__n_neighbors': (5, 7),\n",
       "                         'knn__weights': ('uniform', 'distance'),\n",
       "                         'tvec__max_df': [0.95, 0.98],\n",
       "                         'tvec__min_df': [0.01, 0.02],\n",
       "                         'tvec__ngram_range': [(1, 1), (2, 2)]},\n",
       "             verbose=2)"
      ]
     },
     "execution_count": 41,
     "metadata": {},
     "output_type": "execute_result"
    }
   ],
   "source": [
    "gs_ct_knn_np.fit(X_train,y_train)"
   ]
  },
  {
   "cell_type": "code",
   "execution_count": 42,
   "metadata": {},
   "outputs": [
    {
     "data": {
      "text/plain": [
       "{'knn__leaf_size': 15,\n",
       " 'knn__n_neighbors': 7,\n",
       " 'knn__weights': 'distance',\n",
       " 'tvec__max_df': 0.95,\n",
       " 'tvec__min_df': 0.02,\n",
       " 'tvec__ngram_range': (2, 2)}"
      ]
     },
     "execution_count": 42,
     "metadata": {},
     "output_type": "execute_result"
    }
   ],
   "source": [
    "gs_ct_knn_np.best_params_"
   ]
  },
  {
   "cell_type": "code",
   "execution_count": 43,
   "metadata": {},
   "outputs": [
    {
     "name": "stdout",
     "output_type": "stream",
     "text": [
      "Training Score: 0.9020153017200053\n",
      "Testing Score: 0.7431774827733874\n"
     ]
    }
   ],
   "source": [
    "classify_score(gs_ct_knn_np, X_train, X_test, y_train, y_test)"
   ]
  },
  {
   "cell_type": "code",
   "execution_count": 44,
   "metadata": {},
   "outputs": [],
   "source": [
    "preds_gs_ct_knn_np = gs_ct_knn_np.predict(X_test)"
   ]
  },
  {
   "cell_type": "code",
   "execution_count": 45,
   "metadata": {},
   "outputs": [
    {
     "name": "stdout",
     "output_type": "stream",
     "text": [
      "Accuracy Score: 0.7431774827733874\n",
      "Recall Score: 0.6565466448445172\n",
      "Specificity Score: 0.8217865894408555\n",
      "Precision Score: 0.7697399980811667\n",
      "F1 Score: 0.7086516804310382\n",
      "ROC AUC Score: 0.7391666171426862\n"
     ]
    },
    {
     "data": {
      "image/png": "[encoded data removed]",
      "text/plain": [
       "<Figure size 720x720 with 2 Axes>"
      ]
     },
     "metadata": {
      "needs_background": "light"
     },
     "output_type": "display_data"
    }
   ],
   "source": [
    "classifiy_metrics(y_test = y_test, \n",
    "                    y_preds = preds_gs_ct_knn_np,\n",
    "                    title=\"KNN\")"
   ]
  },
  {
   "cell_type": "code",
   "execution_count": 46,
   "metadata": {},
   "outputs": [
    {
     "data": {
      "text/plain": [
       "['retrain_gs_ct_knn_np.pkl']"
      ]
     },
     "execution_count": 46,
     "metadata": {},
     "output_type": "execute_result"
    }
   ],
   "source": [
    "joblib.dump(gs_ct_knn_np,'retrain_gs_ct_knn_np.pkl')"
   ]
  },
  {
   "cell_type": "markdown",
   "metadata": {},
   "source": [
    "#### SVC:"
   ]
  },
  {
   "cell_type": "code",
   "execution_count": 47,
   "metadata": {},
   "outputs": [
    {
     "name": "stdout",
     "output_type": "stream",
     "text": [
      "Fitting 5 folds for each of 32 candidates, totalling 160 fits\n"
     ]
    },
    {
     "data": {
      "text/plain": [
       "GridSearchCV(cv=5,\n",
       "             estimator=Pipeline(steps=[('cvec', CountVectorizer()),\n",
       "                                       ('tfidf', TfidfTransformer()),\n",
       "                                       ('svc', SVC())]),\n",
       "             n_jobs=-2,\n",
       "             param_grid={'cvec__max_df': [0.95, 0.98],\n",
       "                         'cvec__min_df': [0.02, 0.01],\n",
       "                         'cvec__ngram_range': [(1, 1), (2, 2)],\n",
       "                         'svc__C': (0.001, 2),\n",
       "                         'tfidf__use_idf': [True, False]},\n",
       "             verbose=2)"
      ]
     },
     "execution_count": 47,
     "metadata": {},
     "output_type": "execute_result"
    }
   ],
   "source": [
    "cvec_idf_svc_pipe = Pipeline([\n",
    "    ('cvec', CountVectorizer()),\n",
    "    ('tfidf' , TfidfTransformer()),\n",
    "    ('svc', SVC())\n",
    "])\n",
    "\n",
    "pipe_params_cidf_svc = {\n",
    "        'cvec__max_df' : [0.95, 0.98],\n",
    "        'cvec__ngram_range' : [(1, 1), (2, 2)],\n",
    "        'cvec__min_df' : [0.02, 0.01],\n",
    "        'tfidf__use_idf': [True, False],\n",
    "        'svc__C': (0.001, 2)\n",
    "}\n",
    "\n",
    "# Instantiate GridSearchCV.\n",
    "gs_cvec_idf_svc = GridSearchCV(cvec_idf_svc_pipe,\n",
    "                      param_grid=pipe_params_cidf_svc,\n",
    "                      cv=5,\n",
    "                      verbose=2,\n",
    "                      n_jobs=-2)\n",
    "\n",
    "\n",
    "# Fit GridSearch to training data.\n",
    "gs_cvec_idf_svc.fit(X_train, y_train)"
   ]
  },
  {
   "cell_type": "code",
   "execution_count": 48,
   "metadata": {},
   "outputs": [
    {
     "data": {
      "text/plain": [
       "{'cvec__max_df': 0.95,\n",
       " 'cvec__min_df': 0.01,\n",
       " 'cvec__ngram_range': (1, 1),\n",
       " 'svc__C': 2,\n",
       " 'tfidf__use_idf': False}"
      ]
     },
     "execution_count": 48,
     "metadata": {},
     "output_type": "execute_result"
    }
   ],
   "source": [
    "gs_cvec_idf_svc.best_params_"
   ]
  },
  {
   "cell_type": "code",
   "execution_count": 49,
   "metadata": {},
   "outputs": [
    {
     "name": "stdout",
     "output_type": "stream",
     "text": [
      "Training Score: 0.9935571705240551\n",
      "Testing Score: 0.9042317125394168\n"
     ]
    }
   ],
   "source": [
    "classify_score(model = gs_cvec_idf_svc, \n",
    "                X_train = X_train,\n",
    "                X_test = X_test, \n",
    "                y_train = y_train, \n",
    "                y_test = y_test)"
   ]
  },
  {
   "cell_type": "code",
   "execution_count": 50,
   "metadata": {},
   "outputs": [],
   "source": [
    "preds_gs_cvec_idf_svc = gs_cvec_idf_svc.predict(X_test)"
   ]
  },
  {
   "cell_type": "code",
   "execution_count": 52,
   "metadata": {},
   "outputs": [
    {
     "data": {
      "text/plain": [
       "['retrain_gs_svc.pkl']"
      ]
     },
     "execution_count": 52,
     "metadata": {},
     "output_type": "execute_result"
    }
   ],
   "source": [
    "joblib.dump(gs_cvec_idf_svc,'retrain_gs_svc.pkl')"
   ]
  },
  {
   "cell_type": "code",
   "execution_count": 12,
   "metadata": {},
   "outputs": [],
   "source": [
    "# Reloading model to update visualizations otherwise running the model will take around 441 minutes\n",
    "svc = joblib.load('./retrain pickles/retrain_gs_svc.pkl')"
   ]
  },
  {
   "cell_type": "code",
   "execution_count": 13,
   "metadata": {},
   "outputs": [],
   "source": [
    "preds_svc = svc.predict(X_test)"
   ]
  },
  {
   "cell_type": "code",
   "execution_count": 14,
   "metadata": {},
   "outputs": [
    {
     "name": "stdout",
     "output_type": "stream",
     "text": [
      "Accuracy Score: 0.9042317125394168\n",
      "Recall Score: 0.8800327332242226\n",
      "Specificity Score: 0.926189945793421\n",
      "Precision Score: 0.9153898535921008\n",
      "F1 Score: 0.8973631508678238\n",
      "ROC AUC Score: 0.9031113395088218\n"
     ]
    },
    {
     "data": {
      "image/png": "[encoded data removed]",
      "text/plain": [
       "<Figure size 720x720 with 2 Axes>"
      ]
     },
     "metadata": {
      "needs_background": "light"
     },
     "output_type": "display_data"
    }
   ],
   "source": [
    "classifiy_metrics(y_test = y_test, y_preds = preds_svc, title = 'SVC')"
   ]
  }
 ],
 "metadata": {
  "interpreter": {
   "hash": "b3ba2566441a7c06988d0923437866b63cedc61552a5af99d1f4fb67d367b25f"
  },
  "kernelspec": {
   "display_name": "Python 3 (ipykernel)",
   "language": "python",
   "name": "python3"
  },
  "language_info": {
   "codemirror_mode": {
    "name": "ipython",
    "version": 3
   },
   "file_extension": ".py",
   "mimetype": "text/x-python",
   "name": "python",
   "nbconvert_exporter": "python",
   "pygments_lexer": "ipython3",
   "version": "3.9.12"
  }
 },
 "nbformat": 4,
 "nbformat_minor": 4
}
