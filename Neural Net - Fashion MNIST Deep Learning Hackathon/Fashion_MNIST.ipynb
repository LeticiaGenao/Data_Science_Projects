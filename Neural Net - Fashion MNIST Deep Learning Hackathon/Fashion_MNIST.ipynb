{
 "cells": [
  {
   "cell_type": "markdown",
   "metadata": {
    "id": "TvcToZW01-8O"
   },
   "source": [
    "**Kehinde & Leticia Mini Hackathon**\n",
    "- Identify use cases for convolutional neural networks and when they are used\n"
   ]
  },
  {
   "cell_type": "markdown",
   "metadata": {
    "id": "uFV-6Njb1-8U"
   },
   "source": [
    "Convolutional neural networks are generally used for image classification tasks\n",
    "\n",
    "They are more **efficient** and provide better **performance** than simple, dense, feedforward neural networks.\n",
    "\n",
    "To illustrate this, let's build a feedforward neural network for the MNIST Handwritten Digits dataset."
   ]
  },
  {
   "cell_type": "code",
   "execution_count": 1,
   "metadata": {
    "id": "zcEEprBN1-8V"
   },
   "outputs": [],
   "source": [
    "# Import libraries and modules\n",
    "import numpy as np\n",
    "import matplotlib.pyplot as plt\n",
    "import pandas as pd\n",
    "\n",
    "\n",
    "from sklearn.model_selection import train_test_split, GridSearchCV\n",
    "from sklearn.metrics import confusion_matrix, r2_score, accuracy_score, mean_squared_error\n",
    "\n",
    "from tensorflow.keras.models import Sequential\n",
    "from tensorflow.keras.layers import Dense, Dropout, Flatten, Conv2D, MaxPooling2D\n",
    "from tensorflow.keras import utils\n",
    "from tensorflow.keras.datasets import fashion_mnist\n",
    "from tensorflow.keras.wrappers.scikit_learn import KerasClassifier\n",
    "from tensorflow.keras.regularizers import l2\n",
    "from tensorflow.keras.callbacks import EarlyStopping\n",
    "import tensorflow.math"
   ]
  },
  {
   "cell_type": "markdown",
   "metadata": {
    "id": "YFl5FzZM1-8Y"
   },
   "source": [
    "#### Load Fashion MNIST data into train and test sets\n"
   ]
  },
  {
   "cell_type": "code",
   "execution_count": 2,
   "metadata": {
    "id": "Pi3Torcl1-8Z"
   },
   "outputs": [],
   "source": [
    "(X_train, y_train), (X_test, y_test) = fashion_mnist.load_data()"
   ]
  },
  {
   "cell_type": "code",
   "execution_count": 3,
   "metadata": {
    "colab": {
     "base_uri": "https://localhost:8080/"
    },
    "id": "TPp-kR7nCdsN",
    "outputId": "5ec746ec-c6bf-442b-ec71-1278dd423cdc"
   },
   "outputs": [
    {
     "data": {
      "text/plain": [
       "((60000, 28, 28), (10000, 28, 28))"
      ]
     },
     "execution_count": 3,
     "metadata": {},
     "output_type": "execute_result"
    }
   ],
   "source": [
    "X_train.shape, X_test.shape"
   ]
  },
  {
   "cell_type": "code",
   "execution_count": 4,
   "metadata": {
    "colab": {
     "base_uri": "https://localhost:8080/"
    },
    "id": "oG4G6A-TCdsO",
    "outputId": "5acad4eb-c28d-44a8-ef64-666347fa5d42"
   },
   "outputs": [
    {
     "data": {
      "text/plain": [
       "((60000,), (10000,))"
      ]
     },
     "execution_count": 4,
     "metadata": {},
     "output_type": "execute_result"
    }
   ],
   "source": [
    "y_train.shape, y_test.shape"
   ]
  },
  {
   "cell_type": "markdown",
   "metadata": {
    "id": "NjkfJB881-8Z"
   },
   "source": [
    "#### Check shape of one image"
   ]
  },
  {
   "cell_type": "code",
   "execution_count": 5,
   "metadata": {
    "colab": {
     "base_uri": "https://localhost:8080/"
    },
    "id": "rf_RTBa91-8a",
    "outputId": "7ab0c466-4020-4b32-e0b5-29cd778836b8"
   },
   "outputs": [
    {
     "data": {
      "text/plain": [
       "array([[  0,   0,   0,   0,   0,   0,   0,   0,   0,   0,   0,   0,   0,\n",
       "          0,   0,   0,   0,   0,   0,   0,   0,   0,   0,   0,   0,   0,\n",
       "          0,   0],\n",
       "       [  0,   0,   0,   0,   0,   0,   0,   0,   0,   0,   0,   0,   0,\n",
       "          0,   0,   0,   0,   0,   0,   0,   0,   0,   0,   0,   0,   0,\n",
       "          0,   0],\n",
       "       [  0,   0,   0,   0,   0,   0,   0,   0,   0,   0,   0,   0,   0,\n",
       "          0,   0,   0,   0,   0,   0,   0,   0,   0,   0,   0,   0,   0,\n",
       "          0,   0],\n",
       "       [  0,   0,   0,   0,   0,   0,   0,   0,   0,   0,   0,   0,   1,\n",
       "          0,   0,  13,  73,   0,   0,   1,   4,   0,   0,   0,   0,   1,\n",
       "          1,   0],\n",
       "       [  0,   0,   0,   0,   0,   0,   0,   0,   0,   0,   0,   0,   3,\n",
       "          0,  36, 136, 127,  62,  54,   0,   0,   0,   1,   3,   4,   0,\n",
       "          0,   3],\n",
       "       [  0,   0,   0,   0,   0,   0,   0,   0,   0,   0,   0,   0,   6,\n",
       "          0, 102, 204, 176, 134, 144, 123,  23,   0,   0,   0,   0,  12,\n",
       "         10,   0],\n",
       "       [  0,   0,   0,   0,   0,   0,   0,   0,   0,   0,   0,   0,   0,\n",
       "          0, 155, 236, 207, 178, 107, 156, 161, 109,  64,  23,  77, 130,\n",
       "         72,  15],\n",
       "       [  0,   0,   0,   0,   0,   0,   0,   0,   0,   0,   0,   1,   0,\n",
       "         69, 207, 223, 218, 216, 216, 163, 127, 121, 122, 146, 141,  88,\n",
       "        172,  66],\n",
       "       [  0,   0,   0,   0,   0,   0,   0,   0,   0,   1,   1,   1,   0,\n",
       "        200, 232, 232, 233, 229, 223, 223, 215, 213, 164, 127, 123, 196,\n",
       "        229,   0],\n",
       "       [  0,   0,   0,   0,   0,   0,   0,   0,   0,   0,   0,   0,   0,\n",
       "        183, 225, 216, 223, 228, 235, 227, 224, 222, 224, 221, 223, 245,\n",
       "        173,   0],\n",
       "       [  0,   0,   0,   0,   0,   0,   0,   0,   0,   0,   0,   0,   0,\n",
       "        193, 228, 218, 213, 198, 180, 212, 210, 211, 213, 223, 220, 243,\n",
       "        202,   0],\n",
       "       [  0,   0,   0,   0,   0,   0,   0,   0,   0,   1,   3,   0,  12,\n",
       "        219, 220, 212, 218, 192, 169, 227, 208, 218, 224, 212, 226, 197,\n",
       "        209,  52],\n",
       "       [  0,   0,   0,   0,   0,   0,   0,   0,   0,   0,   6,   0,  99,\n",
       "        244, 222, 220, 218, 203, 198, 221, 215, 213, 222, 220, 245, 119,\n",
       "        167,  56],\n",
       "       [  0,   0,   0,   0,   0,   0,   0,   0,   0,   4,   0,   0,  55,\n",
       "        236, 228, 230, 228, 240, 232, 213, 218, 223, 234, 217, 217, 209,\n",
       "         92,   0],\n",
       "       [  0,   0,   1,   4,   6,   7,   2,   0,   0,   0,   0,   0, 237,\n",
       "        226, 217, 223, 222, 219, 222, 221, 216, 223, 229, 215, 218, 255,\n",
       "         77,   0],\n",
       "       [  0,   3,   0,   0,   0,   0,   0,   0,   0,  62, 145, 204, 228,\n",
       "        207, 213, 221, 218, 208, 211, 218, 224, 223, 219, 215, 224, 244,\n",
       "        159,   0],\n",
       "       [  0,   0,   0,   0,  18,  44,  82, 107, 189, 228, 220, 222, 217,\n",
       "        226, 200, 205, 211, 230, 224, 234, 176, 188, 250, 248, 233, 238,\n",
       "        215,   0],\n",
       "       [  0,  57, 187, 208, 224, 221, 224, 208, 204, 214, 208, 209, 200,\n",
       "        159, 245, 193, 206, 223, 255, 255, 221, 234, 221, 211, 220, 232,\n",
       "        246,   0],\n",
       "       [  3, 202, 228, 224, 221, 211, 211, 214, 205, 205, 205, 220, 240,\n",
       "         80, 150, 255, 229, 221, 188, 154, 191, 210, 204, 209, 222, 228,\n",
       "        225,   0],\n",
       "       [ 98, 233, 198, 210, 222, 229, 229, 234, 249, 220, 194, 215, 217,\n",
       "        241,  65,  73, 106, 117, 168, 219, 221, 215, 217, 223, 223, 224,\n",
       "        229,  29],\n",
       "       [ 75, 204, 212, 204, 193, 205, 211, 225, 216, 185, 197, 206, 198,\n",
       "        213, 240, 195, 227, 245, 239, 223, 218, 212, 209, 222, 220, 221,\n",
       "        230,  67],\n",
       "       [ 48, 203, 183, 194, 213, 197, 185, 190, 194, 192, 202, 214, 219,\n",
       "        221, 220, 236, 225, 216, 199, 206, 186, 181, 177, 172, 181, 205,\n",
       "        206, 115],\n",
       "       [  0, 122, 219, 193, 179, 171, 183, 196, 204, 210, 213, 207, 211,\n",
       "        210, 200, 196, 194, 191, 195, 191, 198, 192, 176, 156, 167, 177,\n",
       "        210,  92],\n",
       "       [  0,   0,  74, 189, 212, 191, 175, 172, 175, 181, 185, 188, 189,\n",
       "        188, 193, 198, 204, 209, 210, 210, 211, 188, 188, 194, 192, 216,\n",
       "        170,   0],\n",
       "       [  2,   0,   0,   0,  66, 200, 222, 237, 239, 242, 246, 243, 244,\n",
       "        221, 220, 193, 191, 179, 182, 182, 181, 176, 166, 168,  99,  58,\n",
       "          0,   0],\n",
       "       [  0,   0,   0,   0,   0,   0,   0,  40,  61,  44,  72,  41,  35,\n",
       "          0,   0,   0,   0,   0,   0,   0,   0,   0,   0,   0,   0,   0,\n",
       "          0,   0],\n",
       "       [  0,   0,   0,   0,   0,   0,   0,   0,   0,   0,   0,   0,   0,\n",
       "          0,   0,   0,   0,   0,   0,   0,   0,   0,   0,   0,   0,   0,\n",
       "          0,   0],\n",
       "       [  0,   0,   0,   0,   0,   0,   0,   0,   0,   0,   0,   0,   0,\n",
       "          0,   0,   0,   0,   0,   0,   0,   0,   0,   0,   0,   0,   0,\n",
       "          0,   0]], dtype=uint8)"
      ]
     },
     "execution_count": 5,
     "metadata": {},
     "output_type": "execute_result"
    }
   ],
   "source": [
    "## Checking one image in X_train\n",
    "X_train[0]"
   ]
  },
  {
   "cell_type": "code",
   "execution_count": 6,
   "metadata": {
    "colab": {
     "base_uri": "https://localhost:8080/"
    },
    "id": "UmKGf28V1-8b",
    "outputId": "7ad94678-28c9-4b01-df0f-91024b28192d"
   },
   "outputs": [
    {
     "data": {
      "text/plain": [
       "(28, 28)"
      ]
     },
     "execution_count": 6,
     "metadata": {},
     "output_type": "execute_result"
    }
   ],
   "source": [
    "## Check the shape of that one image\n",
    "X_train[0].shape"
   ]
  },
  {
   "cell_type": "markdown",
   "metadata": {
    "id": "SdmzhcCB1-8b"
   },
   "source": [
    "#### Visualize the first image"
   ]
  },
  {
   "cell_type": "code",
   "execution_count": 7,
   "metadata": {
    "colab": {
     "base_uri": "https://localhost:8080/",
     "height": 265
    },
    "id": "myFFqWG41-8c",
    "outputId": "b826edb9-5445-4c32-959f-44f171ecf9f3"
   },
   "outputs": [
    {
     "data": {
      "image/png": "[encoded data removed]",
      "text/plain": [
       "<Figure size 432x288 with 1 Axes>"
      ]
     },
     "metadata": {
      "needs_background": "light"
     },
     "output_type": "display_data"
    }
   ],
   "source": [
    "## Use plt.imshow() to plot an ndarray of pixels as an image\n",
    "plt.imshow(X_train[0], cmap='gray');"
   ]
  },
  {
   "cell_type": "code",
   "execution_count": 8,
   "metadata": {
    "colab": {
     "base_uri": "https://localhost:8080/"
    },
    "id": "h0gwccq11-8c",
    "outputId": "00d8d617-66b0-42fa-e0de-7afa4c67e991"
   },
   "outputs": [
    {
     "data": {
      "text/plain": [
       "9"
      ]
     },
     "execution_count": 8,
     "metadata": {},
     "output_type": "execute_result"
    }
   ],
   "source": [
    "## Check the corresponding label in y_train\n",
    "y_train[0]"
   ]
  },
  {
   "cell_type": "markdown",
   "metadata": {
    "id": "V5S6PhRN1-8h"
   },
   "source": [
    "#### Ensure each value is a float before scaling\n"
   ]
  },
  {
   "cell_type": "code",
   "execution_count": 9,
   "metadata": {
    "id": "HIH_fg6L1-8h"
   },
   "outputs": [],
   "source": [
    "# Make sure each value is a float. (Otherwise, we get an error.)\n",
    "X_train = X_train.astype('float32')\n",
    "X_test = X_test.astype('float32')"
   ]
  },
  {
   "cell_type": "code",
   "execution_count": 10,
   "metadata": {
    "id": "sQRB2ea11-8h"
   },
   "outputs": [],
   "source": [
    "# The current range of X_train and X_test is 0 to 255.\n",
    "# The code below is equivalent to X_train = X_train / 255.\n",
    "# This scales each value to be between 0 and 1.\n",
    "\n",
    "X_train /= 255\n",
    "X_test /= 255"
   ]
  },
  {
   "cell_type": "code",
   "execution_count": 11,
   "metadata": {
    "colab": {
     "base_uri": "https://localhost:8080/"
    },
    "id": "AhTYY0gyBoSh",
    "outputId": "6a16c0fa-5ee9-4615-8b78-01ac68496d2a"
   },
   "outputs": [
    {
     "data": {
      "text/plain": [
       "(28, 28)"
      ]
     },
     "execution_count": 11,
     "metadata": {},
     "output_type": "execute_result"
    }
   ],
   "source": [
    "## Check the shape of one image\n",
    "X_train[0].shape"
   ]
  },
  {
   "cell_type": "code",
   "execution_count": 12,
   "metadata": {
    "colab": {
     "base_uri": "https://localhost:8080/"
    },
    "id": "PQLkBScdCdsS",
    "outputId": "25a25291-9aa2-415c-d65c-c815ddf39061"
   },
   "outputs": [
    {
     "data": {
      "text/plain": [
       "(60000, 28, 28)"
      ]
     },
     "execution_count": 12,
     "metadata": {},
     "output_type": "execute_result"
    }
   ],
   "source": [
    "## Check how many images are in the training set\n",
    "X_train.shape"
   ]
  },
  {
   "cell_type": "code",
   "execution_count": 13,
   "metadata": {
    "id": "CgDlu3Nq1-8j"
   },
   "outputs": [],
   "source": [
    "# Reshape each image to be 28 x 28 x 1.\n",
    "# The 1 corresponds to the one black/white value.\n",
    "X_train = X_train.reshape(X_train.shape[0], 28, 28, 1)\n",
    "X_test = X_test.reshape(X_test.shape[0], 28, 28, 1)"
   ]
  },
  {
   "cell_type": "code",
   "execution_count": 14,
   "metadata": {
    "colab": {
     "base_uri": "https://localhost:8080/"
    },
    "id": "e4ttHxGC1-8j",
    "outputId": "ad1087b0-e705-4931-a7a3-62ace6fd496f"
   },
   "outputs": [
    {
     "data": {
      "text/plain": [
       "(60000, 28, 28, 1)"
      ]
     },
     "execution_count": 14,
     "metadata": {},
     "output_type": "execute_result"
    }
   ],
   "source": [
    "X_train.shape"
   ]
  },
  {
   "cell_type": "code",
   "execution_count": 15,
   "metadata": {
    "colab": {
     "base_uri": "https://localhost:8080/"
    },
    "id": "j99OFk2v-06k",
    "outputId": "ad19bf6f-aa9f-4338-8f8c-750cfab813a4"
   },
   "outputs": [
    {
     "data": {
      "text/plain": [
       "(28, 28, 1)"
      ]
     },
     "execution_count": 15,
     "metadata": {},
     "output_type": "execute_result"
    }
   ],
   "source": [
    "X_train[0].shape"
   ]
  },
  {
   "cell_type": "code",
   "execution_count": 16,
   "metadata": {
    "colab": {
     "base_uri": "https://localhost:8080/"
    },
    "id": "omK_hQX2-_N5",
    "outputId": "69594990-f992-4600-a484-e3f9c99ebef4"
   },
   "outputs": [
    {
     "data": {
      "text/plain": [
       "array([3, 1, 4, 8, 4, 3, 0, 2, 4, 4], dtype=uint8)"
      ]
     },
     "execution_count": 16,
     "metadata": {},
     "output_type": "execute_result"
    }
   ],
   "source": [
    "y_train[20:30]"
   ]
  },
  {
   "cell_type": "code",
   "execution_count": 17,
   "metadata": {
    "id": "9fHuyY2j1-8k"
   },
   "outputs": [],
   "source": [
    "## One-hot encode y_train using utils.to_categorical()\n",
    "y_train_encoded = utils.to_categorical(y_train, 10)\n",
    "y_test_encoded = utils.to_categorical(y_test, 10)"
   ]
  },
  {
   "cell_type": "code",
   "execution_count": 18,
   "metadata": {
    "colab": {
     "base_uri": "https://localhost:8080/"
    },
    "id": "7TVoi1hu1-8k",
    "outputId": "a72b4210-7c5b-4d5f-8941-6aa1af4c807a"
   },
   "outputs": [
    {
     "data": {
      "text/plain": [
       "array([[0., 0., 0., 1., 0., 0., 0., 0., 0., 0.],\n",
       "       [0., 1., 0., 0., 0., 0., 0., 0., 0., 0.],\n",
       "       [0., 0., 0., 0., 1., 0., 0., 0., 0., 0.],\n",
       "       [0., 0., 0., 0., 0., 0., 0., 0., 1., 0.],\n",
       "       [0., 0., 0., 0., 1., 0., 0., 0., 0., 0.],\n",
       "       [0., 0., 0., 1., 0., 0., 0., 0., 0., 0.],\n",
       "       [1., 0., 0., 0., 0., 0., 0., 0., 0., 0.],\n",
       "       [0., 0., 1., 0., 0., 0., 0., 0., 0., 0.],\n",
       "       [0., 0., 0., 0., 1., 0., 0., 0., 0., 0.],\n",
       "       [0., 0., 0., 0., 1., 0., 0., 0., 0., 0.]], dtype=float32)"
      ]
     },
     "execution_count": 18,
     "metadata": {},
     "output_type": "execute_result"
    }
   ],
   "source": [
    "## Check what our encoded y_train looks like now\n",
    "y_train_encoded[20:30]"
   ]
  },
  {
   "cell_type": "code",
   "execution_count": 19,
   "metadata": {
    "colab": {
     "base_uri": "https://localhost:8080/"
    },
    "id": "qJmDkQC8CdsV",
    "outputId": "3343f50d-c27c-47c3-899c-2b28c35f14a8"
   },
   "outputs": [
    {
     "data": {
      "text/plain": [
       "(28, 28, 1)"
      ]
     },
     "execution_count": 19,
     "metadata": {},
     "output_type": "execute_result"
    }
   ],
   "source": [
    "X_train[0].shape"
   ]
  },
  {
   "cell_type": "code",
   "execution_count": 20,
   "metadata": {
    "id": "Frug50f_HwX4"
   },
   "outputs": [],
   "source": [
    "# Add an argument of number of layers to the function (and loop through it)\n",
    "\n",
    "\n",
    "def model_func_deep(hidden_layers=2, hidden_neurons=8, dropout=None):\n",
    "    model = Sequential()\n",
    "    \n",
    "    # This is taking our 28x28x1 pixel grid and flattening it to 784 input nodes\n",
    "    model.add(Flatten(input_shape = X_train[0].shape))\n",
    "\n",
    "    for layer in range(hidden_layers):\n",
    "        # if layer == 0:  \n",
    "        #     model.add(Dense(hidden_neurons, activation='relu', \n",
    "        #                     input_shape = X_train[0].shape))\n",
    "        # else:\n",
    "        model.add(Dense(hidden_neurons, activation='relu'))\n",
    "            \n",
    "        if dropout != None:\n",
    "            model.add(Dropout(dropout))\n",
    "    \n",
    "    ## Output layer\n",
    "    model.add(Dense(10, activation='softmax'))\n",
    "    \n",
    "    ## compile\n",
    "    model.compile('adam', 'categorical_crossentropy', ['accuracy'])\n",
    "    \n",
    "    return model"
   ]
  },
  {
   "cell_type": "code",
   "execution_count": 21,
   "metadata": {
    "colab": {
     "base_uri": "https://localhost:8080/"
    },
    "id": "DcvGpTxMI76h",
    "outputId": "51e52041-49f7-4953-ea50-c33df002485c"
   },
   "outputs": [
    {
     "name": "stderr",
     "output_type": "stream",
     "text": [
      "C:\\Users\\Leticia\\anaconda3\\lib\\site-packages\\joblib\\externals\\loky\\process_executor.py:702: UserWarning: A worker stopped while some jobs were given to the executor. This can be caused by a too short worker timeout or by a memory leak.\n",
      "  warnings.warn(\n"
     ]
    },
    {
     "ename": "KeyboardInterrupt",
     "evalue": "",
     "output_type": "error",
     "traceback": [
      "\u001b[1;31m---------------------------------------------------------------------------\u001b[0m",
      "\u001b[1;31mKeyboardInterrupt\u001b[0m                         Traceback (most recent call last)",
      "Input \u001b[1;32mIn [21]\u001b[0m, in \u001b[0;36m<cell line: 17>\u001b[1;34m()\u001b[0m\n\u001b[0;32m     13\u001b[0m \u001b[38;5;66;03m## GridSearchCV\u001b[39;00m\n\u001b[0;32m     14\u001b[0m gs_nn \u001b[38;5;241m=\u001b[39m GridSearchCV(nn, params,\n\u001b[0;32m     15\u001b[0m                       cv\u001b[38;5;241m=\u001b[39m\u001b[38;5;241m3\u001b[39m, n_jobs\u001b[38;5;241m=\u001b[39m\u001b[38;5;241m-\u001b[39m\u001b[38;5;241m1\u001b[39m)\n\u001b[1;32m---> 17\u001b[0m \u001b[43mgs_nn\u001b[49m\u001b[38;5;241;43m.\u001b[39;49m\u001b[43mfit\u001b[49m\u001b[43m(\u001b[49m\u001b[43mX_train\u001b[49m\u001b[43m,\u001b[49m\u001b[43m \u001b[49m\u001b[43my_train_encoded\u001b[49m\u001b[43m)\u001b[49m\n\u001b[0;32m     19\u001b[0m \u001b[38;5;66;03m#Print results\u001b[39;00m\n\u001b[0;32m     20\u001b[0m \u001b[38;5;28mprint\u001b[39m(gs_nn\u001b[38;5;241m.\u001b[39mbest_score_)\n",
      "File \u001b[1;32m~\\anaconda3\\lib\\site-packages\\sklearn\\utils\\validation.py:72\u001b[0m, in \u001b[0;36m_deprecate_positional_args.<locals>.inner_f\u001b[1;34m(*args, **kwargs)\u001b[0m\n\u001b[0;32m     67\u001b[0m     warnings\u001b[38;5;241m.\u001b[39mwarn(\u001b[38;5;124m\"\u001b[39m\u001b[38;5;124mPass \u001b[39m\u001b[38;5;132;01m{}\u001b[39;00m\u001b[38;5;124m as keyword args. From version 0.25 \u001b[39m\u001b[38;5;124m\"\u001b[39m\n\u001b[0;32m     68\u001b[0m                   \u001b[38;5;124m\"\u001b[39m\u001b[38;5;124mpassing these as positional arguments will \u001b[39m\u001b[38;5;124m\"\u001b[39m\n\u001b[0;32m     69\u001b[0m                   \u001b[38;5;124m\"\u001b[39m\u001b[38;5;124mresult in an error\u001b[39m\u001b[38;5;124m\"\u001b[39m\u001b[38;5;241m.\u001b[39mformat(\u001b[38;5;124m\"\u001b[39m\u001b[38;5;124m, \u001b[39m\u001b[38;5;124m\"\u001b[39m\u001b[38;5;241m.\u001b[39mjoin(args_msg)),\n\u001b[0;32m     70\u001b[0m                   \u001b[38;5;167;01mFutureWarning\u001b[39;00m)\n\u001b[0;32m     71\u001b[0m kwargs\u001b[38;5;241m.\u001b[39mupdate({k: arg \u001b[38;5;28;01mfor\u001b[39;00m k, arg \u001b[38;5;129;01min\u001b[39;00m \u001b[38;5;28mzip\u001b[39m(sig\u001b[38;5;241m.\u001b[39mparameters, args)})\n\u001b[1;32m---> 72\u001b[0m \u001b[38;5;28;01mreturn\u001b[39;00m \u001b[43mf\u001b[49m\u001b[43m(\u001b[49m\u001b[38;5;241;43m*\u001b[39;49m\u001b[38;5;241;43m*\u001b[39;49m\u001b[43mkwargs\u001b[49m\u001b[43m)\u001b[49m\n",
      "File \u001b[1;32m~\\anaconda3\\lib\\site-packages\\sklearn\\model_selection\\_search.py:736\u001b[0m, in \u001b[0;36mBaseSearchCV.fit\u001b[1;34m(self, X, y, groups, **fit_params)\u001b[0m\n\u001b[0;32m    732\u001b[0m         results \u001b[38;5;241m=\u001b[39m \u001b[38;5;28mself\u001b[39m\u001b[38;5;241m.\u001b[39m_format_results(\n\u001b[0;32m    733\u001b[0m             all_candidate_params, scorers, n_splits, all_out)\n\u001b[0;32m    734\u001b[0m         \u001b[38;5;28;01mreturn\u001b[39;00m results\n\u001b[1;32m--> 736\u001b[0m     \u001b[38;5;28;43mself\u001b[39;49m\u001b[38;5;241;43m.\u001b[39;49m\u001b[43m_run_search\u001b[49m\u001b[43m(\u001b[49m\u001b[43mevaluate_candidates\u001b[49m\u001b[43m)\u001b[49m\n\u001b[0;32m    738\u001b[0m \u001b[38;5;66;03m# For multi-metric evaluation, store the best_index_, best_params_ and\u001b[39;00m\n\u001b[0;32m    739\u001b[0m \u001b[38;5;66;03m# best_score_ iff refit is one of the scorer names\u001b[39;00m\n\u001b[0;32m    740\u001b[0m \u001b[38;5;66;03m# In single metric evaluation, refit_metric is \"score\"\u001b[39;00m\n\u001b[0;32m    741\u001b[0m \u001b[38;5;28;01mif\u001b[39;00m \u001b[38;5;28mself\u001b[39m\u001b[38;5;241m.\u001b[39mrefit \u001b[38;5;129;01mor\u001b[39;00m \u001b[38;5;129;01mnot\u001b[39;00m \u001b[38;5;28mself\u001b[39m\u001b[38;5;241m.\u001b[39mmultimetric_:\n\u001b[0;32m    742\u001b[0m     \u001b[38;5;66;03m# If callable, refit is expected to return the index of the best\u001b[39;00m\n\u001b[0;32m    743\u001b[0m     \u001b[38;5;66;03m# parameter set.\u001b[39;00m\n",
      "File \u001b[1;32m~\\anaconda3\\lib\\site-packages\\sklearn\\model_selection\\_search.py:1188\u001b[0m, in \u001b[0;36mGridSearchCV._run_search\u001b[1;34m(self, evaluate_candidates)\u001b[0m\n\u001b[0;32m   1186\u001b[0m \u001b[38;5;28;01mdef\u001b[39;00m \u001b[38;5;21m_run_search\u001b[39m(\u001b[38;5;28mself\u001b[39m, evaluate_candidates):\n\u001b[0;32m   1187\u001b[0m     \u001b[38;5;124;03m\"\"\"Search all candidates in param_grid\"\"\"\u001b[39;00m\n\u001b[1;32m-> 1188\u001b[0m     \u001b[43mevaluate_candidates\u001b[49m\u001b[43m(\u001b[49m\u001b[43mParameterGrid\u001b[49m\u001b[43m(\u001b[49m\u001b[38;5;28;43mself\u001b[39;49m\u001b[38;5;241;43m.\u001b[39;49m\u001b[43mparam_grid\u001b[49m\u001b[43m)\u001b[49m\u001b[43m)\u001b[49m\n",
      "File \u001b[1;32m~\\anaconda3\\lib\\site-packages\\sklearn\\model_selection\\_search.py:708\u001b[0m, in \u001b[0;36mBaseSearchCV.fit.<locals>.evaluate_candidates\u001b[1;34m(candidate_params)\u001b[0m\n\u001b[0;32m    703\u001b[0m \u001b[38;5;28;01mif\u001b[39;00m \u001b[38;5;28mself\u001b[39m\u001b[38;5;241m.\u001b[39mverbose \u001b[38;5;241m>\u001b[39m \u001b[38;5;241m0\u001b[39m:\n\u001b[0;32m    704\u001b[0m     \u001b[38;5;28mprint\u001b[39m(\u001b[38;5;124m\"\u001b[39m\u001b[38;5;124mFitting \u001b[39m\u001b[38;5;132;01m{0}\u001b[39;00m\u001b[38;5;124m folds for each of \u001b[39m\u001b[38;5;132;01m{1}\u001b[39;00m\u001b[38;5;124m candidates,\u001b[39m\u001b[38;5;124m\"\u001b[39m\n\u001b[0;32m    705\u001b[0m           \u001b[38;5;124m\"\u001b[39m\u001b[38;5;124m totalling \u001b[39m\u001b[38;5;132;01m{2}\u001b[39;00m\u001b[38;5;124m fits\u001b[39m\u001b[38;5;124m\"\u001b[39m\u001b[38;5;241m.\u001b[39mformat(\n\u001b[0;32m    706\u001b[0m               n_splits, n_candidates, n_candidates \u001b[38;5;241m*\u001b[39m n_splits))\n\u001b[1;32m--> 708\u001b[0m out \u001b[38;5;241m=\u001b[39m \u001b[43mparallel\u001b[49m\u001b[43m(\u001b[49m\u001b[43mdelayed\u001b[49m\u001b[43m(\u001b[49m\u001b[43m_fit_and_score\u001b[49m\u001b[43m)\u001b[49m\u001b[43m(\u001b[49m\u001b[43mclone\u001b[49m\u001b[43m(\u001b[49m\u001b[43mbase_estimator\u001b[49m\u001b[43m)\u001b[49m\u001b[43m,\u001b[49m\n\u001b[0;32m    709\u001b[0m \u001b[43m                                       \u001b[49m\u001b[43mX\u001b[49m\u001b[43m,\u001b[49m\u001b[43m \u001b[49m\u001b[43my\u001b[49m\u001b[43m,\u001b[49m\n\u001b[0;32m    710\u001b[0m \u001b[43m                                       \u001b[49m\u001b[43mtrain\u001b[49m\u001b[38;5;241;43m=\u001b[39;49m\u001b[43mtrain\u001b[49m\u001b[43m,\u001b[49m\u001b[43m \u001b[49m\u001b[43mtest\u001b[49m\u001b[38;5;241;43m=\u001b[39;49m\u001b[43mtest\u001b[49m\u001b[43m,\u001b[49m\n\u001b[0;32m    711\u001b[0m \u001b[43m                                       \u001b[49m\u001b[43mparameters\u001b[49m\u001b[38;5;241;43m=\u001b[39;49m\u001b[43mparameters\u001b[49m\u001b[43m,\u001b[49m\n\u001b[0;32m    712\u001b[0m \u001b[43m                                       \u001b[49m\u001b[38;5;241;43m*\u001b[39;49m\u001b[38;5;241;43m*\u001b[39;49m\u001b[43mfit_and_score_kwargs\u001b[49m\u001b[43m)\u001b[49m\n\u001b[0;32m    713\u001b[0m \u001b[43m               \u001b[49m\u001b[38;5;28;43;01mfor\u001b[39;49;00m\u001b[43m \u001b[49m\u001b[43mparameters\u001b[49m\u001b[43m,\u001b[49m\u001b[43m \u001b[49m\u001b[43m(\u001b[49m\u001b[43mtrain\u001b[49m\u001b[43m,\u001b[49m\u001b[43m \u001b[49m\u001b[43mtest\u001b[49m\u001b[43m)\u001b[49m\n\u001b[0;32m    714\u001b[0m \u001b[43m               \u001b[49m\u001b[38;5;129;43;01min\u001b[39;49;00m\u001b[43m \u001b[49m\u001b[43mproduct\u001b[49m\u001b[43m(\u001b[49m\u001b[43mcandidate_params\u001b[49m\u001b[43m,\u001b[49m\n\u001b[0;32m    715\u001b[0m \u001b[43m                          \u001b[49m\u001b[43mcv\u001b[49m\u001b[38;5;241;43m.\u001b[39;49m\u001b[43msplit\u001b[49m\u001b[43m(\u001b[49m\u001b[43mX\u001b[49m\u001b[43m,\u001b[49m\u001b[43m \u001b[49m\u001b[43my\u001b[49m\u001b[43m,\u001b[49m\u001b[43m \u001b[49m\u001b[43mgroups\u001b[49m\u001b[43m)\u001b[49m\u001b[43m)\u001b[49m\u001b[43m)\u001b[49m\n\u001b[0;32m    717\u001b[0m \u001b[38;5;28;01mif\u001b[39;00m \u001b[38;5;28mlen\u001b[39m(out) \u001b[38;5;241m<\u001b[39m \u001b[38;5;241m1\u001b[39m:\n\u001b[0;32m    718\u001b[0m     \u001b[38;5;28;01mraise\u001b[39;00m \u001b[38;5;167;01mValueError\u001b[39;00m(\u001b[38;5;124m'\u001b[39m\u001b[38;5;124mNo fits were performed. \u001b[39m\u001b[38;5;124m'\u001b[39m\n\u001b[0;32m    719\u001b[0m                      \u001b[38;5;124m'\u001b[39m\u001b[38;5;124mWas the CV iterator empty? \u001b[39m\u001b[38;5;124m'\u001b[39m\n\u001b[0;32m    720\u001b[0m                      \u001b[38;5;124m'\u001b[39m\u001b[38;5;124mWere there no candidates?\u001b[39m\u001b[38;5;124m'\u001b[39m)\n",
      "File \u001b[1;32m~\\anaconda3\\lib\\site-packages\\joblib\\parallel.py:1056\u001b[0m, in \u001b[0;36mParallel.__call__\u001b[1;34m(self, iterable)\u001b[0m\n\u001b[0;32m   1053\u001b[0m     \u001b[38;5;28mself\u001b[39m\u001b[38;5;241m.\u001b[39m_iterating \u001b[38;5;241m=\u001b[39m \u001b[38;5;28;01mFalse\u001b[39;00m\n\u001b[0;32m   1055\u001b[0m \u001b[38;5;28;01mwith\u001b[39;00m \u001b[38;5;28mself\u001b[39m\u001b[38;5;241m.\u001b[39m_backend\u001b[38;5;241m.\u001b[39mretrieval_context():\n\u001b[1;32m-> 1056\u001b[0m     \u001b[38;5;28;43mself\u001b[39;49m\u001b[38;5;241;43m.\u001b[39;49m\u001b[43mretrieve\u001b[49m\u001b[43m(\u001b[49m\u001b[43m)\u001b[49m\n\u001b[0;32m   1057\u001b[0m \u001b[38;5;66;03m# Make sure that we get a last message telling us we are done\u001b[39;00m\n\u001b[0;32m   1058\u001b[0m elapsed_time \u001b[38;5;241m=\u001b[39m time\u001b[38;5;241m.\u001b[39mtime() \u001b[38;5;241m-\u001b[39m \u001b[38;5;28mself\u001b[39m\u001b[38;5;241m.\u001b[39m_start_time\n",
      "File \u001b[1;32m~\\anaconda3\\lib\\site-packages\\joblib\\parallel.py:935\u001b[0m, in \u001b[0;36mParallel.retrieve\u001b[1;34m(self)\u001b[0m\n\u001b[0;32m    933\u001b[0m \u001b[38;5;28;01mtry\u001b[39;00m:\n\u001b[0;32m    934\u001b[0m     \u001b[38;5;28;01mif\u001b[39;00m \u001b[38;5;28mgetattr\u001b[39m(\u001b[38;5;28mself\u001b[39m\u001b[38;5;241m.\u001b[39m_backend, \u001b[38;5;124m'\u001b[39m\u001b[38;5;124msupports_timeout\u001b[39m\u001b[38;5;124m'\u001b[39m, \u001b[38;5;28;01mFalse\u001b[39;00m):\n\u001b[1;32m--> 935\u001b[0m         \u001b[38;5;28mself\u001b[39m\u001b[38;5;241m.\u001b[39m_output\u001b[38;5;241m.\u001b[39mextend(\u001b[43mjob\u001b[49m\u001b[38;5;241;43m.\u001b[39;49m\u001b[43mget\u001b[49m\u001b[43m(\u001b[49m\u001b[43mtimeout\u001b[49m\u001b[38;5;241;43m=\u001b[39;49m\u001b[38;5;28;43mself\u001b[39;49m\u001b[38;5;241;43m.\u001b[39;49m\u001b[43mtimeout\u001b[49m\u001b[43m)\u001b[49m)\n\u001b[0;32m    936\u001b[0m     \u001b[38;5;28;01melse\u001b[39;00m:\n\u001b[0;32m    937\u001b[0m         \u001b[38;5;28mself\u001b[39m\u001b[38;5;241m.\u001b[39m_output\u001b[38;5;241m.\u001b[39mextend(job\u001b[38;5;241m.\u001b[39mget())\n",
      "File \u001b[1;32m~\\anaconda3\\lib\\site-packages\\joblib\\_parallel_backends.py:542\u001b[0m, in \u001b[0;36mLokyBackend.wrap_future_result\u001b[1;34m(future, timeout)\u001b[0m\n\u001b[0;32m    539\u001b[0m \u001b[38;5;124;03m\"\"\"Wrapper for Future.result to implement the same behaviour as\u001b[39;00m\n\u001b[0;32m    540\u001b[0m \u001b[38;5;124;03mAsyncResults.get from multiprocessing.\"\"\"\u001b[39;00m\n\u001b[0;32m    541\u001b[0m \u001b[38;5;28;01mtry\u001b[39;00m:\n\u001b[1;32m--> 542\u001b[0m     \u001b[38;5;28;01mreturn\u001b[39;00m \u001b[43mfuture\u001b[49m\u001b[38;5;241;43m.\u001b[39;49m\u001b[43mresult\u001b[49m\u001b[43m(\u001b[49m\u001b[43mtimeout\u001b[49m\u001b[38;5;241;43m=\u001b[39;49m\u001b[43mtimeout\u001b[49m\u001b[43m)\u001b[49m\n\u001b[0;32m    543\u001b[0m \u001b[38;5;28;01mexcept\u001b[39;00m CfTimeoutError \u001b[38;5;28;01mas\u001b[39;00m e:\n\u001b[0;32m    544\u001b[0m     \u001b[38;5;28;01mraise\u001b[39;00m \u001b[38;5;167;01mTimeoutError\u001b[39;00m \u001b[38;5;28;01mfrom\u001b[39;00m \u001b[38;5;21;01me\u001b[39;00m\n",
      "File \u001b[1;32m~\\anaconda3\\lib\\concurrent\\futures\\_base.py:434\u001b[0m, in \u001b[0;36mFuture.result\u001b[1;34m(self, timeout)\u001b[0m\n\u001b[0;32m    431\u001b[0m \u001b[38;5;28;01melif\u001b[39;00m \u001b[38;5;28mself\u001b[39m\u001b[38;5;241m.\u001b[39m_state \u001b[38;5;241m==\u001b[39m FINISHED:\n\u001b[0;32m    432\u001b[0m     \u001b[38;5;28;01mreturn\u001b[39;00m \u001b[38;5;28mself\u001b[39m\u001b[38;5;241m.\u001b[39m__get_result()\n\u001b[1;32m--> 434\u001b[0m \u001b[38;5;28;43mself\u001b[39;49m\u001b[38;5;241;43m.\u001b[39;49m\u001b[43m_condition\u001b[49m\u001b[38;5;241;43m.\u001b[39;49m\u001b[43mwait\u001b[49m\u001b[43m(\u001b[49m\u001b[43mtimeout\u001b[49m\u001b[43m)\u001b[49m\n\u001b[0;32m    436\u001b[0m \u001b[38;5;28;01mif\u001b[39;00m \u001b[38;5;28mself\u001b[39m\u001b[38;5;241m.\u001b[39m_state \u001b[38;5;129;01min\u001b[39;00m [CANCELLED, CANCELLED_AND_NOTIFIED]:\n\u001b[0;32m    437\u001b[0m     \u001b[38;5;28;01mraise\u001b[39;00m CancelledError()\n",
      "File \u001b[1;32m~\\anaconda3\\lib\\threading.py:302\u001b[0m, in \u001b[0;36mCondition.wait\u001b[1;34m(self, timeout)\u001b[0m\n\u001b[0;32m    300\u001b[0m \u001b[38;5;28;01mtry\u001b[39;00m:    \u001b[38;5;66;03m# restore state no matter what (e.g., KeyboardInterrupt)\u001b[39;00m\n\u001b[0;32m    301\u001b[0m     \u001b[38;5;28;01mif\u001b[39;00m timeout \u001b[38;5;129;01mis\u001b[39;00m \u001b[38;5;28;01mNone\u001b[39;00m:\n\u001b[1;32m--> 302\u001b[0m         \u001b[43mwaiter\u001b[49m\u001b[38;5;241;43m.\u001b[39;49m\u001b[43macquire\u001b[49m\u001b[43m(\u001b[49m\u001b[43m)\u001b[49m\n\u001b[0;32m    303\u001b[0m         gotit \u001b[38;5;241m=\u001b[39m \u001b[38;5;28;01mTrue\u001b[39;00m\n\u001b[0;32m    304\u001b[0m     \u001b[38;5;28;01melse\u001b[39;00m:\n",
      "\u001b[1;31mKeyboardInterrupt\u001b[0m: "
     ]
    }
   ],
   "source": [
    "# Parameters grid\n",
    "\n",
    "params = {\n",
    "    'hidden_layers': [2, 3, 4],\n",
    "    'hidden_neurons': [32, 64],\n",
    "    'dropout':[0, 0.2, 0.5],\n",
    "    'epochs':[40, 80]\n",
    "}\n",
    "\n",
    "## Keras wrapper\n",
    "nn = KerasClassifier(build_fn=model_func_deep, epochs = 10, batch_size=4096, verbose=0)\n",
    "\n",
    "## GridSearchCV\n",
    "gs_nn = GridSearchCV(nn, params,\n",
    "                      cv=3, n_jobs=-1)\n",
    "\n",
    "gs_nn.fit(X_train, y_train_encoded)\n",
    "\n",
    "#Print results\n",
    "print(gs_nn.best_score_)\n",
    "print(gs_nn.best_params_)"
   ]
  },
  {
   "cell_type": "code",
   "execution_count": null,
   "metadata": {
    "colab": {
     "base_uri": "https://localhost:8080/"
    },
    "id": "kEESIfgrQKD2",
    "outputId": "43b5b2e0-32b9-4fcd-d760-426813dd3682"
   },
   "outputs": [],
   "source": [
    "# Make predictions \n",
    "y_train_preds = gs_nn.predict(X_train)\n",
    "y_test_preds = gs_nn.predict(X_test)\n",
    "\n",
    "print(f'Training R2 Score: {metrics.r2_score(y_train_encoded, y_train_preds)}')\n",
    "print(f'Test R2 Score: {metrics.r2_score(y_test_encoded, y_test_preds)}')"
   ]
  },
  {
   "cell_type": "code",
   "execution_count": null,
   "metadata": {
    "id": "O4Izy4M2iMZf"
   },
   "outputs": [],
   "source": [
    "preds_classes_1 = tensorflow.math.argmax(y_test_preds, axis=-1)"
   ]
  },
  {
   "cell_type": "code",
   "execution_count": null,
   "metadata": {
    "colab": {
     "base_uri": "https://localhost:8080/"
    },
    "id": "cgM36DZcbu-C",
    "outputId": "0800f551-8b67-4098-b43c-41e9e9cb9e6b"
   },
   "outputs": [],
   "source": [
    "#Print results\n",
    "print(gs_nn.best_score_)\n",
    "print(gs_nn.best_params_)"
   ]
  },
  {
   "cell_type": "code",
   "execution_count": null,
   "metadata": {
    "colab": {
     "base_uri": "https://localhost:8080/"
    },
    "id": "2wNFqsC4cfog",
    "outputId": "1652407e-c2a4-410c-dd20-5fa008c70dcc"
   },
   "outputs": [],
   "source": [
    "# Save confusion matrix values\n",
    "cm = confusion_matrix(y_test, preds_classes_1)\n",
    "# tn, fp, fn, tp = cm.ravel()\n",
    "cm"
   ]
  },
  {
   "cell_type": "code",
   "execution_count": null,
   "metadata": {
    "colab": {
     "base_uri": "https://localhost:8080/",
     "height": 497
    },
    "id": "k_ODrbi7kdbu",
    "outputId": "9d84d1ca-1d35-4097-fbf1-f281366447de"
   },
   "outputs": [],
   "source": [
    "# Display results in a confusion matrix (older method for sklearn < 1.0) - multiclass classification - 0 to 9 classes\n",
    "from sklearn.metrics import plot_confusion_matrix, ConfusionMatrixDisplay\n",
    "\n",
    "fig,ax = plt.subplots(figsize = (10,8))\n",
    "ConfusionMatrixDisplay.from_predictions(y_test, preds_classes_1, ax=ax);\n",
    "# 1's show where predictions failed, diagonal is correct. 0's no error."
   ]
  },
  {
   "cell_type": "code",
   "execution_count": null,
   "metadata": {
    "colab": {
     "base_uri": "https://localhost:8080/"
    },
    "id": "USHMfe0qcfzN",
    "outputId": "f81c2b27-9454-4115-e7f2-4fecff05aecd"
   },
   "outputs": [],
   "source": [
    "print('Accuracy Score : ' + str(accuracy_score(y_test, preds_classes_1)))"
   ]
  },
  {
   "cell_type": "code",
   "execution_count": null,
   "metadata": {
    "id": "-ihuCDAw1-8l"
   },
   "outputs": [],
   "source": [
    "# When instantiating our model, what do we first write?\n",
    "model1 = Sequential()"
   ]
  },
  {
   "cell_type": "code",
   "execution_count": null,
   "metadata": {
    "colab": {
     "base_uri": "https://localhost:8080/"
    },
    "id": "4vc7M5U3aUJP",
    "outputId": "f9a98d01-dc86-4351-89b8-d8555f657583"
   },
   "outputs": [],
   "source": [
    "# Parameters grid\n",
    "\n",
    "params_2 = {\n",
    "    'hidden_layers': [2],\n",
    "    'hidden_neurons': [64, 128],\n",
    "    'dropout':[0, 0.2, 0.5],\n",
    "    'epochs':[80, 160]\n",
    "}\n",
    "\n",
    "## Keras wrapper\n",
    "nn = KerasClassifier(build_fn=model_func_deep, epochs = 10, batch_size=4096, verbose=0)\n",
    "\n",
    "## GridSearchCV\n",
    "gs_nn_2 = GridSearchCV(nn, params_2,\n",
    "                      cv=3, n_jobs=-1)\n",
    "\n",
    "gs_nn_2.fit(X_train, y_train_encoded)\n",
    "\n",
    "#Print results\n",
    "print(gs_nn_2.best_score_)\n",
    "print(gs_nn_2.best_params_)"
   ]
  },
  {
   "cell_type": "code",
   "execution_count": null,
   "metadata": {
    "colab": {
     "base_uri": "https://localhost:8080/"
    },
    "id": "_ydjjJLOfkNw",
    "outputId": "d7c5f8a0-0103-4602-e951-d97da0fa7dd2"
   },
   "outputs": [],
   "source": [
    "# Make predictions \n",
    "y_train_preds_2 = gs_nn_2.predict(X_train)\n",
    "y_test_preds_2 = gs_nn_2.predict(X_test)\n",
    "\n",
    "print(f'Training R2 Score: {metrics.r2_score(y_train_encoded, y_train_preds_2)}')\n",
    "print(f'Test R2 Score: {metrics.r2_score(y_test_encoded, y_test_preds_2)}')"
   ]
  },
  {
   "cell_type": "code",
   "execution_count": null,
   "metadata": {
    "id": "doARQ91UmRJo"
   },
   "outputs": [],
   "source": [
    "preds_classes_2 = tensorflow.math.argmax(y_test_preds_2, axis=-1)"
   ]
  },
  {
   "cell_type": "code",
   "execution_count": null,
   "metadata": {
    "colab": {
     "base_uri": "https://localhost:8080/"
    },
    "id": "k4yo9cLJmRJp",
    "outputId": "5e4f61d3-64c0-4b48-82c4-76d95dbb55f6"
   },
   "outputs": [],
   "source": [
    "#Print results\n",
    "print(gs_nn_2.best_score_)\n",
    "print(gs_nn_2.best_params_)"
   ]
  },
  {
   "cell_type": "code",
   "execution_count": null,
   "metadata": {
    "colab": {
     "base_uri": "https://localhost:8080/"
    },
    "id": "jJD9RT0emRJq",
    "outputId": "88eed6c6-6e6b-450f-fd71-963c7d8b609a"
   },
   "outputs": [],
   "source": [
    "# Save confusion matrix values\n",
    "cm_2 = confusion_matrix(y_test, preds_classes_2)\n",
    "# tn, fp, fn, tp = cm.ravel()\n",
    "cm_2"
   ]
  },
  {
   "cell_type": "code",
   "execution_count": null,
   "metadata": {
    "colab": {
     "base_uri": "https://localhost:8080/",
     "height": 497
    },
    "id": "ql4L10RLmRJq",
    "outputId": "201f6e2f-1b75-4659-dee4-938279ae9fd1"
   },
   "outputs": [],
   "source": [
    "# Display results in a confusion matrix (older method for sklearn < 1.0) - multiclass classification - 0 to 9 classes\n",
    "from sklearn.metrics import plot_confusion_matrix, ConfusionMatrixDisplay\n",
    "\n",
    "fig,ax = plt.subplots(figsize = (10,8))\n",
    "ConfusionMatrixDisplay.from_predictions(y_test, preds_classes_2, ax=ax);\n",
    "# 1's show where predictions failed, diagonal is correct. 0's no error."
   ]
  },
  {
   "cell_type": "code",
   "execution_count": null,
   "metadata": {
    "colab": {
     "base_uri": "https://localhost:8080/"
    },
    "id": "3HYcRshwmRJq",
    "outputId": "7c6a0c05-af5b-4cd6-d63c-b646ef6af7e3"
   },
   "outputs": [],
   "source": [
    "print('Accuracy Score : ' + str(accuracy_score(y_test, preds_classes_2)))"
   ]
  },
  {
   "cell_type": "code",
   "execution_count": null,
   "metadata": {
    "id": "TJBlCt3koAOU"
   },
   "outputs": [],
   "source": [
    "model = Sequential()\n",
    "\n",
    "#Filter\n",
    "model.add(Conv2D(16,\n",
    "                 kernel_size = (3,3),\n",
    "                 activation = 'relu',\n",
    "                 input_shape = X_train[0].shape))\n",
    "#Pooling layer\n",
    "model.add(MaxPooling2D(pool_size=(2,2)))\n",
    "\n",
    "model.add(Conv2D(32, # number of filters\n",
    "                     kernel_size = (3,3), # height/width of filter\n",
    "                     activation = \"relu\")) # activation function\n",
    "\n",
    "# dimensions of region of pooling\n",
    "model.add(MaxPooling2D(pool_size = (2,2)))\n",
    "\n",
    "#flatten layer\n",
    "model.add(Flatten())\n",
    "# Input layer 1\n",
    "model.add(Dense(128,\n",
    "                activation = 'relu')) \n",
    "#droput layer\n",
    "model.add(Dropout(0.2))\n",
    "\n",
    "# second hidden layer\n",
    "model.add(Dense(128,\n",
    "                activation = 'relu'))\n",
    "\n",
    "#dropout layer 2\n",
    "model.add(Dropout(0.2))\n",
    "\n",
    "#output layer\n",
    "model.add(Dense(10, activation = \"softmax\"))"
   ]
  },
  {
   "cell_type": "code",
   "execution_count": null,
   "metadata": {
    "colab": {
     "base_uri": "https://localhost:8080/"
    },
    "id": "BiWPaHLgqNnA",
    "outputId": "b13ea1f8-da15-4ec4-f219-fd5c35df572f"
   },
   "outputs": [],
   "source": [
    "model.summary()"
   ]
  },
  {
   "cell_type": "code",
   "execution_count": null,
   "metadata": {
    "id": "1iMbiYmLqUip"
   },
   "outputs": [],
   "source": [
    "model.compile(loss = 'categorical_crossentropy',\n",
    "                 optimizer = 'adam',\n",
    "                 metrics = ['accuracy'])"
   ]
  },
  {
   "cell_type": "code",
   "execution_count": null,
   "metadata": {
    "colab": {
     "base_uri": "https://localhost:8080/"
    },
    "id": "c7Oy7SvK1-8n",
    "outputId": "0ca24117-b1fb-4462-a5cb-8e1a54a89321"
   },
   "outputs": [],
   "source": [
    "## We'll use a batch_size of 4096 and 80 epochs\n",
    "hist1 = model.fit(\n",
    "    X_train,\n",
    "    y_train_encoded, \n",
    "    batch_size=4096,\n",
    "    validation_data=(X_test, y_test_encoded),\n",
    "    epochs=80\n",
    "    )"
   ]
  },
  {
   "cell_type": "code",
   "execution_count": null,
   "metadata": {
    "colab": {
     "base_uri": "https://localhost:8080/"
    },
    "id": "Es1VBeOP1-8n",
    "outputId": "f874697f-3af5-4bd7-a829-0924c68f6a3d"
   },
   "outputs": [],
   "source": [
    "hist1.history.keys()"
   ]
  },
  {
   "cell_type": "code",
   "execution_count": null,
   "metadata": {
    "colab": {
     "base_uri": "https://localhost:8080/"
    },
    "id": "U8S8Cz2aCdsW",
    "outputId": "d4b2f38b-6f4d-48ba-ec90-04fe954049b8"
   },
   "outputs": [],
   "source": [
    "model.evaluate(X_test,y_test_encoded)"
   ]
  },
  {
   "cell_type": "code",
   "execution_count": null,
   "metadata": {
    "colab": {
     "base_uri": "https://localhost:8080/"
    },
    "id": "87_NqHbTnzor",
    "outputId": "52bf9660-b3ca-4906-f736-4952e23ac29a"
   },
   "outputs": [],
   "source": [
    "y_train_preds_3 = model.predict(X_train)\n",
    "y_test_preds_3 = model.predict(X_test)\n",
    "\n",
    "print(f'Training R2 Score: {r2_score(y_train_encoded, y_train_preds_3)}')\n",
    "print(f'Test R2 Score: {r2_score(y_test_encoded, y_test_preds_3)}')"
   ]
  },
  {
   "cell_type": "code",
   "execution_count": null,
   "metadata": {
    "id": "0jsG1CpLuVEK"
   },
   "outputs": [],
   "source": [
    "preds_classes_3 = tensorflow.math.argmax(y_test_preds_3, axis=-1)"
   ]
  },
  {
   "cell_type": "code",
   "execution_count": null,
   "metadata": {
    "colab": {
     "base_uri": "https://localhost:8080/"
    },
    "id": "EGVnP4qIt-dk",
    "outputId": "f6a2715e-0a99-4345-a626-1c0a96840f2a"
   },
   "outputs": [],
   "source": [
    "# Save confusion matrix values\n",
    "cm_3 = confusion_matrix(y_test, preds_classes_3)\n",
    "# tn, fp, fn, tp = cm.ravel()\n",
    "cm_3"
   ]
  },
  {
   "cell_type": "code",
   "execution_count": null,
   "metadata": {
    "colab": {
     "base_uri": "https://localhost:8080/",
     "height": 497
    },
    "id": "BXYEeZ3Ht-nj",
    "outputId": "8baa3690-3157-441b-a511-c4d458e51d3c"
   },
   "outputs": [],
   "source": [
    "# Display results in a confusion matrix (older method for sklearn < 1.0) - multiclass classification - 0 to 9 classes\n",
    "from sklearn.metrics import plot_confusion_matrix, ConfusionMatrixDisplay\n",
    "\n",
    "fig,ax = plt.subplots(figsize = (10,8))\n",
    "ConfusionMatrixDisplay.from_predictions(y_test, preds_classes_3, ax=ax);\n",
    "# 1's show where predictions failed, diagonal is correct. 0's no error."
   ]
  },
  {
   "cell_type": "code",
   "execution_count": null,
   "metadata": {
    "id": "2TmY2PJ-1-8n"
   },
   "outputs": [],
   "source": [
    "def plot_hist(hist, metric = \"loss\"):\n",
    "    \"\"\" plot the results from neural net training \n",
    "    \n",
    "    Args:\n",
    "        hist (TF history object): The history of the training\n",
    "        metric (string): The name of the metric to plot (name should be the same as key in hist.history)\n",
    "    \n",
    "    Returns: \n",
    "        None\n",
    "    \"\"\"\n",
    "    \n",
    "    plt.figure(figsize=(12, 8))\n",
    "\n",
    "    plt.plot(hist.history[metric], label=f'Train {metric.capitalize()}')\n",
    "    plt.plot(hist.history[f'val_{metric}'], label=f'Validation {metric.capitalize()}')\n",
    "\n",
    "    plt.title(f'Training & Testing {metric.capitalize()} by Epoch', fontsize=25)\n",
    "    plt.xlabel('Epoch', fontsize=18)\n",
    "    plt.ylabel(metric.capitalize(), fontsize=18)\n",
    "\n",
    "    plt.legend(fontsize=18);"
   ]
  },
  {
   "cell_type": "code",
   "execution_count": null,
   "metadata": {
    "colab": {
     "base_uri": "https://localhost:8080/",
     "height": 530
    },
    "id": "Kalfm7CGt_M-",
    "outputId": "deabb8b5-7c98-4ef5-f0cc-9f6d4886d8d4"
   },
   "outputs": [],
   "source": [
    "plot_hist(hist1, \"loss\")"
   ]
  },
  {
   "cell_type": "code",
   "execution_count": null,
   "metadata": {
    "colab": {
     "base_uri": "https://localhost:8080/",
     "height": 530
    },
    "id": "22UUdnNAvh2C",
    "outputId": "8a152764-72ac-4778-b868-057aabb8da19"
   },
   "outputs": [],
   "source": [
    "plot_hist(hist1, \"accuracy\")"
   ]
  },
  {
   "cell_type": "code",
   "execution_count": null,
   "metadata": {
    "colab": {
     "base_uri": "https://localhost:8080/",
     "height": 530
    },
    "id": "usQzxt-O1-8o",
    "outputId": "4f0d057d-97a6-45d3-967d-9db15048b495"
   },
   "outputs": [],
   "source": [
    "plot_hist(hist1)"
   ]
  },
  {
   "cell_type": "code",
   "execution_count": null,
   "metadata": {
    "colab": {
     "base_uri": "https://localhost:8080/",
     "height": 530
    },
    "id": "x0X-i03NCdsX",
    "outputId": "b2873ddf-9bd1-4205-835b-5875b62839ee",
    "tags": []
   },
   "outputs": [],
   "source": [
    "plot_hist(hist1, metric = \"accuracy\")"
   ]
  },
  {
   "cell_type": "code",
   "execution_count": null,
   "metadata": {
    "id": "2UoAXt4AwTVR",
    "jupyter": {
     "source_hidden": true
    }
   },
   "outputs": [],
   "source": [
    "model_2 = Sequential()\n",
    "\n",
    "#Filter\n",
    "model_2.add(Conv2D(16,\n",
    "                 kernel_size = (3,3),\n",
    "                 activation = 'relu',\n",
    "                 input_shape = X_train[0].shape))\n",
    "#Pooling layer\n",
    "model_2.add(MaxPooling2D(pool_size=(2,2)))\n",
    "\n",
    "model_2.add(Conv2D(32, # number of filters\n",
    "                     kernel_size = (3,3), # height/width of filter\n",
    "                     activation = \"relu\")) # activation function\n",
    "\n",
    "# dimensions of region of pooling\n",
    "model_2.add(MaxPooling2D(pool_size = (2,2)))\n",
    "\n",
    "#flatten layer\n",
    "model_2.add(Flatten())\n",
    "# Input layer 1\n",
    "model_2.add(Dense(128,\n",
    "                activation = 'relu',\n",
    "                kernel_regularizer=l2(0.01))) \n",
    "#droput layer\n",
    "model_2.add(Dropout(0.2))\n",
    "\n",
    "# second hidden layer\n",
    "model_2.add(Dense(128,\n",
    "                activation = 'relu',\n",
    "                kernel_regularizer=l2(0.01)))\n",
    "\n",
    "#dropout layer 2\n",
    "model_2.add(Dropout(0.2))\n",
    "\n",
    "#output layer\n",
    "model_2.add(Dense(10, activation = \"softmax\"))"
   ]
  },
  {
   "cell_type": "code",
   "execution_count": null,
   "metadata": {
    "colab": {
     "base_uri": "https://localhost:8080/"
    },
    "id": "Ey0xxgv4wTVR",
    "outputId": "a2aafd2c-7254-41b1-a573-b59264e5528a"
   },
   "outputs": [],
   "source": [
    "model_2.summary()"
   ]
  },
  {
   "cell_type": "code",
   "execution_count": null,
   "metadata": {
    "id": "HbdyEGygwTVR"
   },
   "outputs": [],
   "source": [
    "model_2.compile(loss = 'categorical_crossentropy',\n",
    "                 optimizer = 'adam',\n",
    "                 metrics = ['accuracy'])"
   ]
  },
  {
   "cell_type": "code",
   "execution_count": null,
   "metadata": {
    "id": "x3DMewSwxhsH"
   },
   "outputs": [],
   "source": [
    "## Early Stopping\n",
    "early_stop = EarlyStopping(patience = 5, min_delta = 0.001,\n",
    "                           restore_best_weights=True)"
   ]
  },
  {
   "cell_type": "code",
   "execution_count": null,
   "metadata": {
    "colab": {
     "base_uri": "https://localhost:8080/"
    },
    "id": "kRxFzh6owTVS",
    "outputId": "71353452-37f9-4ee6-c789-da90bb4999d2"
   },
   "outputs": [],
   "source": [
    "## We'll use a batch_size of 4096 and 80 epochs\n",
    "hist2 = model_2.fit(\n",
    "    X_train,\n",
    "    y_train_encoded, \n",
    "    batch_size=4096,\n",
    "    validation_data=(X_test, y_test_encoded),\n",
    "    epochs=80,\n",
    "    callbacks = [early_stop]\n",
    "    )"
   ]
  },
  {
   "cell_type": "code",
   "execution_count": null,
   "metadata": {
    "colab": {
     "base_uri": "https://localhost:8080/"
    },
    "id": "67q96QyawTVS",
    "outputId": "cedc3c3f-cbef-43c7-993d-33ae1d65a925"
   },
   "outputs": [],
   "source": [
    "hist2.history.keys()"
   ]
  },
  {
   "cell_type": "code",
   "execution_count": null,
   "metadata": {
    "colab": {
     "base_uri": "https://localhost:8080/"
    },
    "id": "0a1GlI7swTVT",
    "outputId": "6788ee44-1d5a-4f9f-9e32-398d02e195bf"
   },
   "outputs": [],
   "source": [
    "model_2.evaluate(X_test,y_test_encoded)"
   ]
  },
  {
   "cell_type": "code",
   "execution_count": null,
   "metadata": {
    "colab": {
     "base_uri": "https://localhost:8080/"
    },
    "id": "afXUdHPtwTVU",
    "outputId": "31d71910-0f51-42ac-b06a-0fb10ce42edd"
   },
   "outputs": [],
   "source": [
    "y_train_preds_4 = model_2.predict(X_train)\n",
    "y_test_preds_4 = model_2.predict(X_test)\n",
    "\n",
    "print(f'Training R2 Score: {r2_score(y_train_encoded, y_train_preds_4)}')\n",
    "print(f'Test R2 Score: {r2_score(y_test_encoded, y_test_preds_4)}')"
   ]
  },
  {
   "cell_type": "code",
   "execution_count": null,
   "metadata": {
    "id": "HmiNpNPowTVV"
   },
   "outputs": [],
   "source": [
    "preds_classes_4 = tensorflow.math.argmax(y_test_preds_4, axis=-1)"
   ]
  },
  {
   "cell_type": "code",
   "execution_count": null,
   "metadata": {
    "colab": {
     "base_uri": "https://localhost:8080/"
    },
    "id": "Bid4WNCxwTVW",
    "outputId": "5a34b918-6fc6-4bd6-ca7a-f95049247f15"
   },
   "outputs": [],
   "source": [
    "# Save confusion matrix values\n",
    "cm_4 = confusion_matrix(y_test, preds_classes_4)\n",
    "# tn, fp, fn, tp = cm.ravel()\n",
    "cm_4"
   ]
  },
  {
   "cell_type": "code",
   "execution_count": null,
   "metadata": {
    "colab": {
     "base_uri": "https://localhost:8080/",
     "height": 497
    },
    "id": "sk2gFZpFwTVW",
    "outputId": "0b8b74dc-47f0-49f3-d0ec-4ef6ad10d1d3"
   },
   "outputs": [],
   "source": [
    "# Display results in a confusion matrix (older method for sklearn < 1.0) - multiclass classification - 0 to 9 classes\n",
    "from sklearn.metrics import plot_confusion_matrix, ConfusionMatrixDisplay\n",
    "\n",
    "fig,ax = plt.subplots(figsize = (10,8))\n",
    "ConfusionMatrixDisplay.from_predictions(y_test, preds_classes_4, ax=ax);\n",
    "# 1's show where predictions failed, diagonal is correct. 0's no error."
   ]
  },
  {
   "cell_type": "code",
   "execution_count": null,
   "metadata": {
    "colab": {
     "base_uri": "https://localhost:8080/",
     "height": 530
    },
    "id": "SWVw3Ll3wRsC",
    "outputId": "1ad86051-7ab5-4e14-c57c-b74e633bc93c"
   },
   "outputs": [],
   "source": [
    "plot_hist(hist2, \"loss\")"
   ]
  },
  {
   "cell_type": "code",
   "execution_count": null,
   "metadata": {
    "colab": {
     "base_uri": "https://localhost:8080/",
     "height": 530
    },
    "id": "JBmAI1W3wRvE",
    "outputId": "6616cc96-7629-4ef9-a4b0-55ac43698483"
   },
   "outputs": [],
   "source": [
    "plot_hist(hist2, \"accuracy\")"
   ]
  },
  {
   "cell_type": "code",
   "execution_count": null,
   "metadata": {
    "colab": {
     "base_uri": "https://localhost:8080/"
    },
    "id": "j4MjhUJ6wRx_",
    "outputId": "d6a222c3-c4fa-4dc6-e715-3fec10bb0611"
   },
   "outputs": [],
   "source": [
    "print('Accuracy Score : ' + str(accuracy_score(y_test, preds_classes_4)))"
   ]
  },
  {
   "cell_type": "code",
   "execution_count": null,
   "metadata": {
    "id": "xVUhyig-wR0x"
   },
   "outputs": [],
   "source": [
    "## Model Comparison"
   ]
  },
  {
   "cell_type": "code",
   "execution_count": null,
   "metadata": {
    "colab": {
     "base_uri": "https://localhost:8080/"
    },
    "id": "rj_trJFNwR3Q",
    "outputId": "efc943f9-7790-4aad-d543-34a050876c8a"
   },
   "outputs": [],
   "source": [
    "print(f'Training RMSE: {mean_squared_error(y_train_encoded, y_train_preds_4, squared=False)}')\n",
    "print(f'Test RMSE: {mean_squared_error(y_test_encoded, y_test_preds_4, squared=False)}')"
   ]
  },
  {
   "cell_type": "code",
   "execution_count": null,
   "metadata": {
    "colab": {
     "base_uri": "https://localhost:8080/"
    },
    "id": "gjQLDVe-wSKQ",
    "outputId": "ebf32a53-1139-4592-8505-144c85a4ed56"
   },
   "outputs": [],
   "source": [
    "print(f'Training R2 Score: {r2_score(y_train_encoded, y_train_preds_3)}')\n",
    "print(f'Test R2 Score: {r2_score(y_test_encoded, y_test_preds_3)}')"
   ]
  },
  {
   "cell_type": "code",
   "execution_count": null,
   "metadata": {
    "colab": {
     "base_uri": "https://localhost:8080/"
    },
    "id": "meHW7DIXwSUn",
    "outputId": "e029d6f1-633a-424e-b1d3-11e9dcf15961"
   },
   "outputs": [],
   "source": [
    "print('Accuracy Score : ' + str(accuracy_score(y_test, preds_classes_3)))"
   ]
  },
  {
   "cell_type": "code",
   "execution_count": null,
   "metadata": {
    "colab": {
     "base_uri": "https://localhost:8080/"
    },
    "id": "9m4NLHUkwSQx",
    "outputId": "28eab11d-f6fa-4cb1-9d49-03586f052b72"
   },
   "outputs": [],
   "source": [
    "print('Accuracy Score : ' + str(accuracy_score(y_test, preds_classes_4)))"
   ]
  }
 ],
 "metadata": {
  "accelerator": "GPU",
  "colab": {
   "collapsed_sections": [],
   "name": "Fashion_MNIST.ipynb",
   "provenance": []
  },
  "kernelspec": {
   "display_name": "Python 3 (ipykernel)",
   "language": "python",
   "name": "python3"
  },
  "language_info": {
   "codemirror_mode": {
    "name": "ipython",
    "version": 3
   },
   "file_extension": ".py",
   "mimetype": "text/x-python",
   "name": "python",
   "nbconvert_exporter": "python",
   "pygments_lexer": "ipython3",
   "version": "3.8.5"
  }
 },
 "nbformat": 4,
 "nbformat_minor": 4
}
